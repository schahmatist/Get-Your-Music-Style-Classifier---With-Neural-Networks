{
 "cells": [
  {
   "cell_type": "markdown",
   "id": "ug7KAs0t6pb8",
   "metadata": {
    "id": "ug7KAs0t6pb8"
   },
   "source": [
    "## Importing Libraries"
   ]
  },
  {
   "cell_type": "code",
   "execution_count": 1,
   "id": "e1f00dd8",
   "metadata": {
    "executionInfo": {
     "elapsed": 9483,
     "status": "ok",
     "timestamp": 1653863344043,
     "user": {
      "displayName": "Dima Фиш",
      "userId": "06406005900087245430"
     },
     "user_tz": 240
    },
    "id": "e1f00dd8"
   },
   "outputs": [],
   "source": [
    "from keras.utils.np_utils import to_categorical\n",
    "from keras.preprocessing.text import Tokenizer\n",
    "from keras import models, layers, optimizers, regularizers\n",
    "from keras.models import load_model, Sequential\n",
    "from keras.layers import BatchNormalization\n",
    "from keras.callbacks import EarlyStopping, ModelCheckpoint\n",
    "\n",
    "from sklearn.metrics import ConfusionMatrixDisplay,  confusion_matrix\n",
    "from sklearn.preprocessing import scale, LabelEncoder, StandardScaler\n",
    "from sklearn.model_selection import train_test_split\n",
    "\n",
    "import numpy as np\n",
    "import pandas as pd\n",
    "\n",
    "from datetime import datetime\n",
    "import os\n",
    "import string\n",
    "\n",
    "import matplotlib.pyplot as plt\n",
    "%matplotlib inline\n"
   ]
  },
  {
   "cell_type": "markdown",
   "id": "5XZ5u08bc1aJ",
   "metadata": {
    "id": "5XZ5u08bc1aJ"
   },
   "source": []
  },
  {
   "cell_type": "code",
   "execution_count": 2,
   "id": "esF5zMzyc1eV",
   "metadata": {
    "colab": {
     "base_uri": "https://localhost:8080/"
    },
    "executionInfo": {
     "elapsed": 1841,
     "status": "ok",
     "timestamp": 1653863511519,
     "user": {
      "displayName": "Dima Фиш",
      "userId": "06406005900087245430"
     },
     "user_tz": 240
    },
    "id": "esF5zMzyc1eV",
    "outputId": "0df05075-0f63-4376-d6ca-9dffb9147190"
   },
   "outputs": [],
   "source": [
    "# from google.colab import drive\n",
    "# drive.mount('/content/gdrive')\n",
    "# %cd gdrive/MyDrive/Audio/notebooks"
   ]
  },
  {
   "cell_type": "markdown",
   "id": "jBa6z6Jd8EE7",
   "metadata": {
    "id": "jBa6z6Jd8EE7"
   },
   "source": [
    "## Function to Visualize Training History"
   ]
  },
  {
   "cell_type": "code",
   "execution_count": 3,
   "id": "75d553f6",
   "metadata": {
    "executionInfo": {
     "elapsed": 190,
     "status": "ok",
     "timestamp": 1653863516650,
     "user": {
      "displayName": "Dima Фиш",
      "userId": "06406005900087245430"
     },
     "user_tz": 240
    },
    "id": "75d553f6"
   },
   "outputs": [],
   "source": [
    "def visualize_training_results(results):\n",
    "    history = results.history\n",
    "    plt.figure()\n",
    "    plt.plot(history['val_loss'])\n",
    "    plt.plot(history['loss'])\n",
    "    plt.legend(['val_loss', 'loss'])\n",
    "    plt.title('Loss')\n",
    "    plt.xlabel('Epochs')\n",
    "    plt.ylabel('Loss')\n",
    "    plt.show()\n",
    "    \n",
    "    plt.figure()\n",
    "    plt.plot(history['val_accuracy'])\n",
    "    plt.plot(history['accuracy'])\n",
    "    plt.legend(['val_accuracy', 'accuracy'])\n",
    "    plt.title('Accuracy')\n",
    "    plt.xlabel('Epochs')\n",
    "    plt.ylabel('Accuracy')\n",
    "    plt.show()"
   ]
  },
  {
   "cell_type": "markdown",
   "id": "SlK0UyTf68jF",
   "metadata": {
    "id": "SlK0UyTf68jF"
   },
   "source": [
    "## Loading Features "
   ]
  },
  {
   "cell_type": "code",
   "execution_count": 4,
   "id": "2d7113df",
   "metadata": {
    "colab": {
     "base_uri": "https://localhost:8080/"
    },
    "executionInfo": {
     "elapsed": 1413,
     "status": "ok",
     "timestamp": 1653863521893,
     "user": {
      "displayName": "Dima Фиш",
      "userId": "06406005900087245430"
     },
     "user_tz": 240
    },
    "id": "2d7113df",
    "outputId": "e13f26fc-caa5-442d-df6a-3c06986b2ac4"
   },
   "outputs": [
    {
     "data": {
      "text/plain": [
       "(23225, 30)"
      ]
     },
     "execution_count": 4,
     "metadata": {},
     "output_type": "execute_result"
    }
   ],
   "source": [
    "\n",
    "df=pd.read_csv('../../features/features.csv')\n",
    "df.shape\n",
    "\n",
    "df.shape"
   ]
  },
  {
   "cell_type": "markdown",
   "id": "yKoizf0e7G3V",
   "metadata": {
    "id": "yKoizf0e7G3V"
   },
   "source": [
    "## Train/Val/Test split"
   ]
  },
  {
   "cell_type": "code",
   "execution_count": 31,
   "id": "23d3cf2f",
   "metadata": {
    "executionInfo": {
     "elapsed": 410,
     "status": "ok",
     "timestamp": 1653863523619,
     "user": {
      "displayName": "Dima Фиш",
      "userId": "06406005900087245430"
     },
     "user_tz": 240
    },
    "id": "23d3cf2f"
   },
   "outputs": [],
   "source": [
    "\n",
    "X = df.drop(['genre','file_name'],axis=1)\n",
    "Y=df[['genre','file_name']]\n",
    "\n",
    "X_train_all, X_test, y_train_all, y_test = train_test_split(X, Y, test_size=0.2, random_state=42)\n",
    "X_train, X_val, y_train, y_val = train_test_split(X_train_all, y_train_all, test_size=0.15, random_state=42)\n",
    "\n",
    "\n"
   ]
  },
  {
   "cell_type": "markdown",
   "id": "oHO7LKdr7MY-",
   "metadata": {
    "id": "oHO7LKdr7MY-"
   },
   "source": [
    "## Labeling and Scaling Data"
   ]
  },
  {
   "cell_type": "code",
   "execution_count": 32,
   "id": "50bd95dd",
   "metadata": {
    "executionInfo": {
     "elapsed": 231,
     "status": "ok",
     "timestamp": 1653863524066,
     "user": {
      "displayName": "Dima Фиш",
      "userId": "06406005900087245430"
     },
     "user_tz": 240
    },
    "id": "50bd95dd"
   },
   "outputs": [],
   "source": [
    "\n",
    "encoder = LabelEncoder()\n",
    "y_test_num = encoder.fit_transform(y_test['genre'])\n",
    "y_train_num = encoder.transform(y_train['genre'])\n",
    "y_val_num = encoder.transform(y_val['genre'])\n",
    "\n",
    "\n",
    "scaler = StandardScaler()\n",
    "\n",
    "X_train_scaled = scaler.fit_transform(np.array(X_train, dtype = float))\n",
    "X_val_scaled = scaler.transform(np.array(X_val, dtype = float))\n",
    "X_test_scaled = scaler.transform(np.array(X_test, dtype = float))\n",
    "\n",
    "## Saving scaler and encoder\n",
    "    \n",
    "import joblib\n",
    "with open('../../models/transformers_6sec_14genres.joblib', 'wb') as f:\n",
    "    joblib.dump([encoder,scaler], f)   \n",
    "    \n"
   ]
  },
  {
   "cell_type": "markdown",
   "id": "d446dd75",
   "metadata": {
    "id": "d446dd75"
   },
   "source": [
    "## MODELING"
   ]
  },
  {
   "cell_type": "code",
   "execution_count": 33,
   "id": "ad4a43f4",
   "metadata": {
    "executionInfo": {
     "elapsed": 294,
     "status": "ok",
     "timestamp": 1653863525188,
     "user": {
      "displayName": "Dima Фиш",
      "userId": "06406005900087245430"
     },
     "user_tz": 240
    },
    "id": "ad4a43f4"
   },
   "outputs": [],
   "source": [
    "\n",
    "\n",
    "model = Sequential()\n",
    "model.add(layers.Dense(512, activation='relu', input_shape=(X_train_scaled.shape[1],)))\n",
    "model.add(layers.Dropout(0.2))\n",
    "#model.add(BatchNormalization())\n",
    "\n",
    "model.add(layers.Dense(256, activation='relu'))\n",
    "model.add(layers.Dropout(0.1))\n",
    "#model.add(BatchNormalization())\n",
    "\n",
    "model.add(layers.Dense(256, activation='relu'))\n",
    "model.add(layers.Dropout(0.1))\n",
    "#model.add(BatchNormalization())\n",
    "\n",
    "model.add(layers.Dense(128, activation='relu'))\n",
    "\n",
    "\n",
    "model.add(layers.Dense(14, activation='softmax'))\n"
   ]
  },
  {
   "cell_type": "code",
   "execution_count": 34,
   "id": "76144a13",
   "metadata": {
    "executionInfo": {
     "elapsed": 179,
     "status": "ok",
     "timestamp": 1653863526839,
     "user": {
      "displayName": "Dima Фиш",
      "userId": "06406005900087245430"
     },
     "user_tz": 240
    },
    "id": "76144a13"
   },
   "outputs": [],
   "source": [
    "model.compile(optimizer='Adam',\n",
    "              loss='sparse_categorical_crossentropy',\n",
    "              metrics=['accuracy'])"
   ]
  },
  {
   "cell_type": "code",
   "execution_count": 35,
   "id": "0495368a",
   "metadata": {
    "executionInfo": {
     "elapsed": 4,
     "status": "ok",
     "timestamp": 1653863527490,
     "user": {
      "displayName": "Dima Фиш",
      "userId": "06406005900087245430"
     },
     "user_tz": 240
    },
    "id": "0495368a"
   },
   "outputs": [],
   "source": [
    "callback = [#EarlyStopping(monitor='loss', patience=50, mode='auto'), # better results with proper DropOuts and without EarlyStopping\n",
    "                  ModelCheckpoint(filepath='../../models/best_model_6sec_14genres_2.h5', monitor='accuracy', save_best_only=True)\n",
    "                 ]"
   ]
  },
  {
   "cell_type": "code",
   "execution_count": 36,
   "id": "99287812",
   "metadata": {
    "colab": {
     "base_uri": "https://localhost:8080/"
    },
    "executionInfo": {
     "elapsed": 1070032,
     "status": "ok",
     "timestamp": 1653864598244,
     "user": {
      "displayName": "Dima Фиш",
      "userId": "06406005900087245430"
     },
     "user_tz": 240
    },
    "id": "99287812",
    "outputId": "def5e8eb-ecf5-4f32-a56b-990a8b9e0e2c"
   },
   "outputs": [],
   "source": [
    "# history = model.fit(X_train_scaled, \n",
    "#                     y_train_num,\n",
    "#                     epochs=500, \n",
    "#                     batch_size=128,  callbacks=callback, \n",
    "#                     validation_data=(X_val_scaled, y_val_num))\n",
    "\n",
    "# visualize_training_results(history)"
   ]
  },
  {
   "cell_type": "code",
   "execution_count": 37,
   "id": "57d2566a",
   "metadata": {},
   "outputs": [],
   "source": [
    "model = load_model('../../models/NN_model_6sec_14genres_new.h5')"
   ]
  },
  {
   "cell_type": "markdown",
   "id": "e2bad8e5",
   "metadata": {
    "id": "e2bad8e5"
   },
   "source": [
    "### EVALUATION"
   ]
  },
  {
   "cell_type": "code",
   "execution_count": 38,
   "id": "1e2dd9b2",
   "metadata": {
    "colab": {
     "base_uri": "https://localhost:8080/"
    },
    "executionInfo": {
     "elapsed": 972,
     "status": "ok",
     "timestamp": 1653864710483,
     "user": {
      "displayName": "Dima Фиш",
      "userId": "06406005900087245430"
     },
     "user_tz": 240
    },
    "id": "1e2dd9b2",
    "outputId": "50f43fad-1ace-4080-945a-e19da10b81be",
    "scrolled": true
   },
   "outputs": [
    {
     "name": "stdout",
     "output_type": "stream",
     "text": [
      "Testing Accuracy:  0.9558665156364441\n",
      "Testing Cross Entropy: 0.32\n",
      "Val Accuracy:  0.9616074562072754\n",
      "Val Cross Entropy: 0.29\n"
     ]
    }
   ],
   "source": [
    "score_test = model.evaluate(X_test_scaled, y_test_num, verbose=0)\n",
    "print(\"Testing Accuracy: \", score_test[1])\n",
    "print(\"Testing Cross Entropy: %.2f\" % score_test[0])\n",
    "\n",
    "score_test = model.evaluate(X_val_scaled, y_val_num, verbose=0)\n",
    "print(\"Val Accuracy: \", score_test[1])\n",
    "print(\"Val Cross Entropy: %.2f\" % score_test[0])"
   ]
  },
  {
   "cell_type": "code",
   "execution_count": 29,
   "id": "f1e0d009",
   "metadata": {
    "executionInfo": {
     "elapsed": 537,
     "status": "ok",
     "timestamp": 1653864741394,
     "user": {
      "displayName": "Dima Фиш",
      "userId": "06406005900087245430"
     },
     "user_tz": 240
    },
    "id": "f1e0d009"
   },
   "outputs": [],
   "source": [
    "y_hat=model.predict(X_test_scaled)\n",
    "y_pred=np.argmax(y_hat, axis=1)"
   ]
  },
  {
   "cell_type": "code",
   "execution_count": 30,
   "id": "a0de52ed",
   "metadata": {
    "colab": {
     "base_uri": "https://localhost:8080/",
     "height": 844
    },
    "executionInfo": {
     "elapsed": 2704,
     "status": "ok",
     "timestamp": 1653864992158,
     "user": {
      "displayName": "Dima Фиш",
      "userId": "06406005900087245430"
     },
     "user_tz": 240
    },
    "id": "a0de52ed",
    "outputId": "160c36ad-2e7c-4f7b-f1ab-baef8977fc4e"
   },
   "outputs": [
    {
     "data": {
      "image/png": "[encoded data removed]",
      "text/plain": [
       "<Figure size 1008x1008 with 2 Axes>"
      ]
     },
     "metadata": {
      "needs_background": "light"
     },
     "output_type": "display_data"
    }
   ],
   "source": [
    "fig, ax = plt.subplots(figsize=(14,14))\n",
    "ConfusionMatrixDisplay.from_predictions(y_test_num, y_pred, display_labels=encoder.classes_, ax=ax, normalize='pred')\n",
    "plt.xticks(rotation=45);"
   ]
  },
  {
   "cell_type": "markdown",
   "id": "nHO-fYUl_61G",
   "metadata": {
    "id": "nHO-fYUl_61G"
   },
   "source": [
    "## Saving a Model\n"
   ]
  },
  {
   "cell_type": "code",
   "execution_count": null,
   "id": "8667c600",
   "metadata": {
    "colab": {
     "base_uri": "https://localhost:8080/"
    },
    "executionInfo": {
     "elapsed": 2992,
     "status": "ok",
     "timestamp": 1653865118022,
     "user": {
      "displayName": "Dima Фиш",
      "userId": "06406005900087245430"
     },
     "user_tz": 240
    },
    "id": "8667c600",
    "outputId": "02e51a6a-adac-47ab-ae6c-aa94322ebca5"
   },
   "outputs": [],
   "source": [
    "#model.save(\"../../models/last_model_6sec_14genres\")"
   ]
  }
 ],
 "metadata": {
  "colab": {
   "collapsed_sections": [],
   "name": "NN model.ipynb",
   "provenance": []
  },
  "kernelspec": {
   "display_name": "Python 3 (ipykernel)",
   "language": "python",
   "name": "python3"
  },
  "language_info": {
   "codemirror_mode": {
    "name": "ipython",
    "version": 3
   },
   "file_extension": ".py",
   "mimetype": "text/x-python",
   "name": "python",
   "nbconvert_exporter": "python",
   "pygments_lexer": "ipython3",
   "version": "3.9.7"
  }
 },
 "nbformat": 4,
 "nbformat_minor": 5
}
