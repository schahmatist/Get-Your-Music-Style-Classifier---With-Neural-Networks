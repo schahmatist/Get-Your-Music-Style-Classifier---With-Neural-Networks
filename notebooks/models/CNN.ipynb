{
 "cells": [
  {
   "cell_type": "markdown",
   "id": "d33bfaea",
   "metadata": {
    "id": "d33bfaea"
   },
   "source": [
    "### Loading Libraries"
   ]
  },
  {
   "cell_type": "code",
   "execution_count": 1,
   "id": "_JnTYymgApTI",
   "metadata": {
    "colab": {
     "base_uri": "https://localhost:8080/"
    },
    "executionInfo": {
     "elapsed": 281,
     "status": "ok",
     "timestamp": 1654235172472,
     "user": {
      "displayName": "Dima Фиш",
      "userId": "06406005900087245430"
     },
     "user_tz": 240
    },
    "id": "_JnTYymgApTI",
    "outputId": "46bcde80-78d9-412f-a380-2592ea0db941"
   },
   "outputs": [],
   "source": [
    "# gpu_info = !nvidia-smi\n",
    "# gpu_info = '\\n'.join(gpu_info)\n",
    "# if gpu_info.find('failed') >= 0:\n",
    "#   print('Not connected to a GPU')\n",
    "# else:\n",
    "#   print(gpu_info)"
   ]
  },
  {
   "cell_type": "code",
   "execution_count": null,
   "id": "bqEuf5xoe3nM",
   "metadata": {
    "colab": {
     "base_uri": "https://localhost:8080/"
    },
    "executionInfo": {
     "elapsed": 28367,
     "status": "ok",
     "timestamp": 1654235202084,
     "user": {
      "displayName": "Dima Фиш",
      "userId": "06406005900087245430"
     },
     "user_tz": 240
    },
    "id": "bqEuf5xoe3nM",
    "outputId": "46323285-fd5b-48c3-ae74-0435da5a4fc7"
   },
   "outputs": [
    {
     "name": "stdout",
     "output_type": "stream",
     "text": [
      "Mounted at /content/gdrive\n",
      "/content/gdrive/MyDrive/Audio\n"
     ]
    }
   ],
   "source": [
    "# from google.colab import drive\n",
    "# drive.mount('/content/gdrive')\n",
    "# %cd gdrive/MyDrive/Audio/"
   ]
  },
  {
   "cell_type": "code",
   "execution_count": 2,
   "id": "4f4b4ed5",
   "metadata": {
    "id": "4f4b4ed5"
   },
   "outputs": [],
   "source": [
    "import pandas as pd\n",
    "import numpy as np\n",
    "\n",
    "import matplotlib.pyplot as plt\n",
    "%matplotlib inline\n",
    "import random\n",
    "\n",
    "import os\n",
    "from PIL import Image\n",
    "import csv\n",
    "\n",
    "#Keras\n",
    "import keras\n",
    "import warnings\n",
    "warnings.filterwarnings('ignore')\n",
    "from keras import layers\n",
    "from keras.layers import Activation, Dense, Dropout, Conv2D, Flatten, MaxPooling2D, GlobalMaxPooling2D, GlobalAveragePooling1D, AveragePooling2D, Input, Add\n",
    "from keras import models\n",
    "from keras.models import Sequential\n",
    "from keras import optimizers \n",
    "from tensorflow.keras.optimizers import Adam\n",
    "from keras.layers import BatchNormalization\n",
    "from keras import regularizers\n",
    "\n",
    "from keras.preprocessing.image import ImageDataGenerator, array_to_img, img_to_array, load_img\n",
    "from keras.callbacks import EarlyStopping, ModelCheckpoint\n",
    "\n",
    "from sklearn.metrics import  classification_report, ConfusionMatrixDisplay\n"
   ]
  },
  {
   "cell_type": "markdown",
   "id": "RLh7sC89BHPf",
   "metadata": {
    "id": "RLh7sC89BHPf"
   },
   "source": []
  },
  {
   "cell_type": "code",
   "execution_count": 3,
   "id": "14f6d9d2",
   "metadata": {
    "id": "14f6d9d2"
   },
   "outputs": [],
   "source": [
    "def visualize_training_results(results):\n",
    "    history = results.history\n",
    "    plt.figure()\n",
    "    plt.plot(history['val_loss'])\n",
    "    plt.plot(history['loss'])\n",
    "    plt.legend(['val_loss', 'loss'])\n",
    "    plt.title('Loss')\n",
    "    plt.xlabel('Epochs')\n",
    "    plt.ylabel('Loss')\n",
    "    plt.show()\n",
    "    \n",
    "    plt.figure()\n",
    "    plt.plot(history['val_accuracy'])\n",
    "    plt.plot(history['accuracy'])\n",
    "    plt.legend(['val_acc', 'acc'])\n",
    "    plt.title('Accuracy')\n",
    "    plt.xlabel('Epochs')\n",
    "    plt.ylabel('Accuracy')\n",
    "    plt.show()"
   ]
  },
  {
   "cell_type": "markdown",
   "id": "MjCUtSuilPsR",
   "metadata": {
    "id": "MjCUtSuilPsR"
   },
   "source": [
    "#"
   ]
  },
  {
   "cell_type": "markdown",
   "id": "58dd6c12",
   "metadata": {
    "id": "58dd6c12"
   },
   "source": [
    "### Loading train/val/test sets\n",
    "\n",
    "* I will upload dataset shortly. Meanwhile in order to evaluate the performance, you can use models in models directory"
   ]
  },
  {
   "cell_type": "code",
   "execution_count": 4,
   "id": "487bc9d6",
   "metadata": {
    "id": "487bc9d6"
   },
   "outputs": [],
   "source": [
    "# image_dir='../image_data/set-8-1-1'\n",
    "\n",
    "# train_dir = image_dir+\"/train/\"\n",
    "# train_datagen = ImageDataGenerator(rescale=1./255)\n",
    "# train_generator = train_datagen.flow_from_directory(train_dir,target_size=(100,100),\n",
    "#                                                     color_mode=\"rgba\",class_mode='categorical',batch_size=18580)\n",
    "\n",
    "# val_dir = image_dir+\"/val/\"\n",
    "# val_datagen = ImageDataGenerator(rescale=1./255)\n",
    "# val_generator = val_datagen.flow_from_directory(val_dir,target_size=(100,100),\n",
    "#                                                 color_mode='rgba',class_mode='categorical',batch_size= 2319)\n",
    "\n",
    "# test_dir = image_dir+\"/test/\"\n",
    "# test_datagen = ImageDataGenerator(rescale=1./255)\n",
    "# test_generator = test_datagen.flow_from_directory(test_dir, target_size=(100,100),\n",
    "#                                                   color_mode='rgba',class_mode='categorical',batch_size= 2326)"
   ]
  },
  {
   "cell_type": "code",
   "execution_count": 5,
   "id": "be6f4118",
   "metadata": {
    "id": "be6f4118"
   },
   "outputs": [],
   "source": [
    "# train_images, train_labels = next(train_generator)\n",
    "# test_images, test_labels = next(test_generator)\n",
    "# val_images, val_labels = next(val_generator)"
   ]
  },
  {
   "cell_type": "code",
   "execution_count": 10,
   "id": "9e5fgaeXpmG-",
   "metadata": {
    "id": "9e5fgaeXpmG-"
   },
   "outputs": [],
   "source": [
    "import pickle\n",
    "file_name = \"../../data_images/set_2x2-8-1-1_5sec.pkl\"\n",
    "with open(file_name, \"rb\") as f:\n",
    "      saved_images=pickle.load(f)\n"
   ]
  },
  {
   "cell_type": "markdown",
   "id": "43982f66",
   "metadata": {
    "id": "43982f66"
   },
   "source": [
    "### Reshaping Data"
   ]
  },
  {
   "cell_type": "code",
   "execution_count": 13,
   "id": "jOdfUVhip9oe",
   "metadata": {
    "colab": {
     "base_uri": "https://localhost:8080/"
    },
    "executionInfo": {
     "elapsed": 559,
     "status": "ok",
     "timestamp": 1654235259749,
     "user": {
      "displayName": "Dima Фиш",
      "userId": "06406005900087245430"
     },
     "user_tz": 240
    },
    "id": "jOdfUVhip9oe",
    "outputId": "a46a4111-2b8c-47e5-8635-9868b07c7749"
   },
   "outputs": [
    {
     "name": "stdout",
     "output_type": "stream",
     "text": [
      "(22291, 14)\n",
      "(22291, 100, 100, 4)\n"
     ]
    }
   ],
   "source": [
    "train_images, train_labels = saved_images[0]\n",
    "test_images, test_labels = saved_images[1]\n",
    "val_images, val_labels = saved_images[2]\n",
    "\n",
    "print(train_labels.shape)\n",
    "print(train_images.shape)"
   ]
  },
  {
   "cell_type": "code",
   "execution_count": 14,
   "id": "a2d7736f",
   "metadata": {
    "colab": {
     "base_uri": "https://localhost:8080/"
    },
    "executionInfo": {
     "elapsed": 3,
     "status": "ok",
     "timestamp": 1654235260764,
     "user": {
      "displayName": "Dima Фиш",
      "userId": "06406005900087245430"
     },
     "user_tz": 240
    },
    "id": "a2d7736f",
    "outputId": "243b1a64-ea42-44b3-a6b9-553351a8911b"
   },
   "outputs": [
    {
     "name": "stdout",
     "output_type": "stream",
     "text": [
      "(22291, 40000)\n",
      "(2797, 40000)\n",
      "(2782, 40000)\n"
     ]
    }
   ],
   "source": [
    "train_img = train_images.reshape(train_images.shape[0], -1)\n",
    "test_img = test_images.reshape(test_images.shape[0], -1)\n",
    "val_img = val_images.reshape(val_images.shape[0], -1)\n",
    "\n",
    "print(train_img.shape)\n",
    "print(test_img.shape)\n",
    "print(val_img.shape)"
   ]
  },
  {
   "cell_type": "markdown",
   "id": "60f8e8ec",
   "metadata": {
    "id": "60f8e8ec"
   },
   "source": [
    "### Reshaping y data"
   ]
  },
  {
   "cell_type": "code",
   "execution_count": 15,
   "id": "92c35765",
   "metadata": {
    "colab": {
     "base_uri": "https://localhost:8080/"
    },
    "executionInfo": {
     "elapsed": 210,
     "status": "ok",
     "timestamp": 1654235262589,
     "user": {
      "displayName": "Dima Фиш",
      "userId": "06406005900087245430"
     },
     "user_tz": 240
    },
    "id": "92c35765",
    "outputId": "220fff4e-6a69-4da3-86e9-2b3e281e1838"
   },
   "outputs": [
    {
     "name": "stdout",
     "output_type": "stream",
     "text": [
      "(22291, 1)\n",
      "(2797, 1)\n",
      "(2782, 1)\n"
     ]
    }
   ],
   "source": [
    "train_y=np.array([np.argmax(i) for i in train_labels]).reshape(train_images.shape[0], -1)\n",
    "test_y=np.array([np.argmax(i) for i in test_labels]).reshape(test_images.shape[0], -1)\n",
    "val_y=np.array([np.argmax(i) for i in val_labels]).reshape(val_images.shape[0], -1)\n",
    "\n",
    "\n",
    "print(train_y.shape)\n",
    "print(test_y.shape)\n",
    "print(val_y.shape)\n",
    "\n"
   ]
  },
  {
   "cell_type": "markdown",
   "id": "16ab5a4f",
   "metadata": {
    "id": "16ab5a4f"
   },
   "source": [
    "## Checking the shapes of train, val and test data"
   ]
  },
  {
   "cell_type": "code",
   "execution_count": 16,
   "id": "b12b300b",
   "metadata": {
    "colab": {
     "base_uri": "https://localhost:8080/"
    },
    "executionInfo": {
     "elapsed": 212,
     "status": "ok",
     "timestamp": 1654235265411,
     "user": {
      "displayName": "Dima Фиш",
      "userId": "06406005900087245430"
     },
     "user_tz": 240
    },
    "id": "b12b300b",
    "outputId": "8035938b-0d7d-4aab-9be0-eb2a4fb791d5"
   },
   "outputs": [
    {
     "name": "stdout",
     "output_type": "stream",
     "text": [
      "Number of training samples: 22291\n",
      "Number of testing samples: 2797\n",
      "Number of validation samples: 2782\n",
      "train_images shape: (22291, 100, 100, 4)\n",
      "train_labels shape: (22291, 14)\n",
      "test_images shape: (2797, 100, 100, 4)\n",
      "test_labels shape: (2797, 14)\n",
      "val_images shape: (2782, 100, 100, 4)\n",
      "val_labels shape: (2782, 14)\n"
     ]
    }
   ],
   "source": [
    "print (\"Number of training samples: \" + str(train_img.shape[0]))\n",
    "print (\"Number of testing samples: \" + str(test_img.shape[0]))\n",
    "print (\"Number of validation samples: \" + str(val_img.shape[0]))\n",
    "print (\"train_images shape: \" + str(train_images.shape))\n",
    "print (\"train_labels shape: \" + str(train_labels.shape))\n",
    "print (\"test_images shape: \" + str(test_images.shape))\n",
    "print (\"test_labels shape: \" + str(test_labels.shape))\n",
    "print (\"val_images shape: \" + str(val_images.shape))\n",
    "print (\"val_labels shape: \" + str(val_labels.shape))"
   ]
  },
  {
   "cell_type": "code",
   "execution_count": 17,
   "id": "07e27402",
   "metadata": {
    "colab": {
     "base_uri": "https://localhost:8080/"
    },
    "executionInfo": {
     "elapsed": 4,
     "status": "ok",
     "timestamp": 1654235266353,
     "user": {
      "displayName": "Dima Фиш",
      "userId": "06406005900087245430"
     },
     "user_tz": 240
    },
    "id": "07e27402",
    "outputId": "f48856e9-420c-4f1a-950c-3ace423cf797"
   },
   "outputs": [
    {
     "data": {
      "text/plain": [
       "(100, 100, 4)"
      ]
     },
     "execution_count": 17,
     "metadata": {},
     "output_type": "execute_result"
    }
   ],
   "source": [
    "train_images.shape[1:]"
   ]
  },
  {
   "cell_type": "markdown",
   "id": "ddac5c0e",
   "metadata": {
    "id": "ddac5c0e"
   },
   "source": [
    "## Building a Network"
   ]
  },
  {
   "cell_type": "code",
   "execution_count": null,
   "id": "08a60dde",
   "metadata": {
    "id": "08a60dde"
   },
   "outputs": [],
   "source": [
    "model = models.Sequential()\n",
    "model.add(layers.Conv2D(256, (3, 3), activation='relu',\n",
    "                        input_shape=(train_images.shape[1:])))\n",
    "model.add(BatchNormalization())\n",
    "model.add(layers.MaxPooling2D((3, 3)))\n",
    "model.add(layers.Dropout(0.35))\n",
    "\n",
    "\n",
    "model.add(layers.Conv2D(40, (3, 3), activation='relu'))\n",
    "model.add(BatchNormalization())\n",
    "model.add(layers.MaxPooling2D((2, 2)))\n",
    "model.add(layers.Dropout(0.3))\n",
    "\n",
    "model.add(layers.Conv2D(40, (3, 3), activation='relu'))\n",
    "model.add(BatchNormalization())\n",
    "model.add(layers.MaxPooling2D((2, 2)))\n",
    "model.add(layers.Dropout(0.3))\n",
    "\n",
    "model.add(layers.Flatten())\n",
    "model.add(layers.Dense(64, activation='relu'))\n",
    "\n",
    "model.add(layers.Dense(14, activation='softmax'))\n",
    "\n",
    "model.compile(loss='sparse_categorical_crossentropy',\n",
    "#              optimizer=Adam(lr=0.0005),\n",
    "              optimizer='adam',\n",
    "              metrics=['accuracy'])\n",
    "\n",
    "#optimizer=Adam(lr=0.001, beta_1=0.9, beta_2=0.999, epsilon=1e-08, decay=0.0),\n"
   ]
  },
  {
   "cell_type": "code",
   "execution_count": null,
   "id": "03db4fba",
   "metadata": {
    "colab": {
     "base_uri": "https://localhost:8080/"
    },
    "executionInfo": {
     "elapsed": 8933926,
     "status": "ok",
     "timestamp": 1654250848312,
     "user": {
      "displayName": "Dima Фиш",
      "userId": "06406005900087245430"
     },
     "user_tz": 240
    },
    "id": "03db4fba",
    "outputId": "06ac235b-82b1-4a92-82e8-8b39d955eb44"
   },
   "outputs": [
    {
     "name": "stdout",
     "output_type": "stream",
     "text": [
      "Epoch 1/400\n",
      "2787/2787 [==============================] - 54s 15ms/step - loss: 1.6048 - accuracy: 0.4669 - val_loss: 1.3959 - val_accuracy: 0.5255\n",
      "Epoch 2/400\n",
      "2787/2787 [==============================] - 39s 14ms/step - loss: 1.0733 - accuracy: 0.6380 - val_loss: 1.0323 - val_accuracy: 0.6553\n",
      "Epoch 3/400\n",
      "2787/2787 [==============================] - 40s 14ms/step - loss: 0.8969 - accuracy: 0.6963 - val_loss: 0.8171 - val_accuracy: 0.7250\n",
      "Epoch 4/400\n",
      "2787/2787 [==============================] - 39s 14ms/step - loss: 0.7852 - accuracy: 0.7366 - val_loss: 1.0671 - val_accuracy: 0.6420\n",
      "Epoch 5/400\n",
      "2787/2787 [==============================] - 39s 14ms/step - loss: 0.7002 - accuracy: 0.7602 - val_loss: 1.9485 - val_accuracy: 0.5061\n",
      "Epoch 6/400\n",
      "2787/2787 [==============================] - 40s 14ms/step - loss: 0.6302 - accuracy: 0.7884 - val_loss: 0.6554 - val_accuracy: 0.7912\n",
      "Epoch 7/400\n",
      "2787/2787 [==============================] - 39s 14ms/step - loss: 0.5761 - accuracy: 0.8033 - val_loss: 0.7007 - val_accuracy: 0.7692\n",
      "Epoch 8/400\n",
      "2787/2787 [==============================] - 39s 14ms/step - loss: 0.5314 - accuracy: 0.8216 - val_loss: 0.5617 - val_accuracy: 0.8156\n",
      "Epoch 9/400\n",
      "2787/2787 [==============================] - 40s 14ms/step - loss: 0.4981 - accuracy: 0.8317 - val_loss: 0.5621 - val_accuracy: 0.8167\n",
      "Epoch 10/400\n",
      "2787/2787 [==============================] - 39s 14ms/step - loss: 0.4537 - accuracy: 0.8440 - val_loss: 0.4846 - val_accuracy: 0.8368\n",
      "Epoch 11/400\n",
      "2787/2787 [==============================] - 39s 14ms/step - loss: 0.4266 - accuracy: 0.8538 - val_loss: 0.4678 - val_accuracy: 0.8476\n",
      "Epoch 12/400\n",
      "2787/2787 [==============================] - 39s 14ms/step - loss: 0.3987 - accuracy: 0.8618 - val_loss: 0.4819 - val_accuracy: 0.8426\n",
      "Epoch 13/400\n",
      "2787/2787 [==============================] - 40s 14ms/step - loss: 0.3738 - accuracy: 0.8729 - val_loss: 0.4305 - val_accuracy: 0.8645\n",
      "Epoch 14/400\n",
      "2787/2787 [==============================] - 39s 14ms/step - loss: 0.3603 - accuracy: 0.8773 - val_loss: 0.6235 - val_accuracy: 0.8120\n",
      "Epoch 15/400\n",
      "2787/2787 [==============================] - 39s 14ms/step - loss: 0.3431 - accuracy: 0.8816 - val_loss: 0.4368 - val_accuracy: 0.8613\n",
      "Epoch 16/400\n",
      "2787/2787 [==============================] - 39s 14ms/step - loss: 0.3271 - accuracy: 0.8871 - val_loss: 0.4702 - val_accuracy: 0.8458\n",
      "Epoch 17/400\n",
      "2787/2787 [==============================] - 39s 14ms/step - loss: 0.3115 - accuracy: 0.8923 - val_loss: 0.4260 - val_accuracy: 0.8720\n",
      "Epoch 18/400\n",
      "2787/2787 [==============================] - 39s 14ms/step - loss: 0.2972 - accuracy: 0.8979 - val_loss: 0.3908 - val_accuracy: 0.8731\n",
      "Epoch 19/400\n",
      "2787/2787 [==============================] - 39s 14ms/step - loss: 0.2877 - accuracy: 0.9031 - val_loss: 0.4350 - val_accuracy: 0.8613\n",
      "Epoch 20/400\n",
      "2787/2787 [==============================] - 39s 14ms/step - loss: 0.2738 - accuracy: 0.9045 - val_loss: 0.6390 - val_accuracy: 0.8221\n",
      "Epoch 21/400\n",
      "2787/2787 [==============================] - 39s 14ms/step - loss: 0.2638 - accuracy: 0.9069 - val_loss: 0.8190 - val_accuracy: 0.7771\n",
      "Epoch 22/400\n",
      "2787/2787 [==============================] - 40s 14ms/step - loss: 0.2602 - accuracy: 0.9117 - val_loss: 0.3446 - val_accuracy: 0.8893\n",
      "Epoch 23/400\n",
      "2787/2787 [==============================] - 39s 14ms/step - loss: 0.2455 - accuracy: 0.9161 - val_loss: 0.3773 - val_accuracy: 0.8835\n",
      "Epoch 24/400\n",
      "2787/2787 [==============================] - 39s 14ms/step - loss: 0.2376 - accuracy: 0.9168 - val_loss: 0.3233 - val_accuracy: 0.9040\n",
      "Epoch 25/400\n",
      "2787/2787 [==============================] - 39s 14ms/step - loss: 0.2332 - accuracy: 0.9192 - val_loss: 0.3929 - val_accuracy: 0.8796\n",
      "Epoch 26/400\n",
      "2787/2787 [==============================] - 39s 14ms/step - loss: 0.2267 - accuracy: 0.9192 - val_loss: 0.3436 - val_accuracy: 0.8922\n",
      "Epoch 27/400\n",
      "2787/2787 [==============================] - 39s 14ms/step - loss: 0.2181 - accuracy: 0.9235 - val_loss: 0.3468 - val_accuracy: 0.8929\n",
      "Epoch 28/400\n",
      "2787/2787 [==============================] - 39s 14ms/step - loss: 0.2077 - accuracy: 0.9280 - val_loss: 0.3838 - val_accuracy: 0.8889\n",
      "Epoch 29/400\n",
      "2787/2787 [==============================] - 39s 14ms/step - loss: 0.2029 - accuracy: 0.9286 - val_loss: 0.3775 - val_accuracy: 0.8886\n",
      "Epoch 30/400\n",
      "2787/2787 [==============================] - 39s 14ms/step - loss: 0.1983 - accuracy: 0.9324 - val_loss: 0.3575 - val_accuracy: 0.8922\n",
      "Epoch 31/400\n",
      "2787/2787 [==============================] - 39s 14ms/step - loss: 0.1958 - accuracy: 0.9330 - val_loss: 0.4064 - val_accuracy: 0.8814\n",
      "Epoch 32/400\n",
      "2787/2787 [==============================] - 39s 14ms/step - loss: 0.1955 - accuracy: 0.9320 - val_loss: 0.3273 - val_accuracy: 0.9019\n",
      "Epoch 33/400\n",
      "2787/2787 [==============================] - 39s 14ms/step - loss: 0.1853 - accuracy: 0.9358 - val_loss: 0.3033 - val_accuracy: 0.9098\n",
      "Epoch 34/400\n",
      "2787/2787 [==============================] - 39s 14ms/step - loss: 0.1799 - accuracy: 0.9371 - val_loss: 0.3609 - val_accuracy: 0.8929\n",
      "Epoch 35/400\n",
      "2787/2787 [==============================] - 39s 14ms/step - loss: 0.1806 - accuracy: 0.9367 - val_loss: 0.2943 - val_accuracy: 0.9109\n",
      "Epoch 36/400\n",
      "2787/2787 [==============================] - 39s 14ms/step - loss: 0.1817 - accuracy: 0.9369 - val_loss: 0.3242 - val_accuracy: 0.9022\n",
      "Epoch 37/400\n",
      "2787/2787 [==============================] - 39s 14ms/step - loss: 0.1677 - accuracy: 0.9435 - val_loss: 0.3581 - val_accuracy: 0.8990\n",
      "Epoch 38/400\n",
      "2787/2787 [==============================] - 38s 14ms/step - loss: 0.1716 - accuracy: 0.9424 - val_loss: 0.3250 - val_accuracy: 0.9055\n",
      "Epoch 39/400\n",
      "2787/2787 [==============================] - 39s 14ms/step - loss: 0.1700 - accuracy: 0.9420 - val_loss: 0.2714 - val_accuracy: 0.9166\n",
      "Epoch 40/400\n",
      "2787/2787 [==============================] - 39s 14ms/step - loss: 0.1615 - accuracy: 0.9461 - val_loss: 0.3420 - val_accuracy: 0.8986\n",
      "Epoch 41/400\n",
      "2787/2787 [==============================] - 39s 14ms/step - loss: 0.1615 - accuracy: 0.9428 - val_loss: 0.3628 - val_accuracy: 0.8925\n",
      "Epoch 42/400\n",
      "2787/2787 [==============================] - 39s 14ms/step - loss: 0.1641 - accuracy: 0.9426 - val_loss: 0.3261 - val_accuracy: 0.9105\n",
      "Epoch 43/400\n",
      "2787/2787 [==============================] - 39s 14ms/step - loss: 0.1571 - accuracy: 0.9449 - val_loss: 0.2901 - val_accuracy: 0.9101\n",
      "Epoch 44/400\n",
      "2787/2787 [==============================] - 39s 14ms/step - loss: 0.1587 - accuracy: 0.9452 - val_loss: 0.3073 - val_accuracy: 0.9127\n",
      "Epoch 45/400\n",
      "2787/2787 [==============================] - 39s 14ms/step - loss: 0.1484 - accuracy: 0.9485 - val_loss: 0.3114 - val_accuracy: 0.9112\n",
      "Epoch 46/400\n",
      "2787/2787 [==============================] - 39s 14ms/step - loss: 0.1521 - accuracy: 0.9483 - val_loss: 0.3086 - val_accuracy: 0.9130\n",
      "Epoch 47/400\n",
      "2787/2787 [==============================] - 39s 14ms/step - loss: 0.1503 - accuracy: 0.9475 - val_loss: 0.3174 - val_accuracy: 0.9080\n",
      "Epoch 48/400\n",
      "2787/2787 [==============================] - 39s 14ms/step - loss: 0.1383 - accuracy: 0.9525 - val_loss: 0.3333 - val_accuracy: 0.9012\n",
      "Epoch 49/400\n",
      "2787/2787 [==============================] - 39s 14ms/step - loss: 0.1417 - accuracy: 0.9508 - val_loss: 0.3215 - val_accuracy: 0.9065\n",
      "Epoch 50/400\n",
      "2787/2787 [==============================] - 39s 14ms/step - loss: 0.1427 - accuracy: 0.9514 - val_loss: 0.2984 - val_accuracy: 0.9141\n",
      "Epoch 51/400\n",
      "2787/2787 [==============================] - 39s 14ms/step - loss: 0.1371 - accuracy: 0.9536 - val_loss: 0.3628 - val_accuracy: 0.8994\n",
      "Epoch 52/400\n",
      "2787/2787 [==============================] - 39s 14ms/step - loss: 0.1328 - accuracy: 0.9541 - val_loss: 0.3287 - val_accuracy: 0.9116\n",
      "Epoch 53/400\n",
      "2787/2787 [==============================] - 39s 14ms/step - loss: 0.1403 - accuracy: 0.9537 - val_loss: 0.4636 - val_accuracy: 0.8771\n",
      "Epoch 54/400\n",
      "2787/2787 [==============================] - 39s 14ms/step - loss: 0.1380 - accuracy: 0.9506 - val_loss: 0.4028 - val_accuracy: 0.8918\n",
      "Epoch 55/400\n",
      "2787/2787 [==============================] - 39s 14ms/step - loss: 0.1261 - accuracy: 0.9561 - val_loss: 0.2937 - val_accuracy: 0.9170\n",
      "Epoch 56/400\n",
      "2787/2787 [==============================] - 39s 14ms/step - loss: 0.1318 - accuracy: 0.9544 - val_loss: 0.2841 - val_accuracy: 0.9177\n",
      "Epoch 57/400\n",
      "2787/2787 [==============================] - 39s 14ms/step - loss: 0.1262 - accuracy: 0.9568 - val_loss: 0.2686 - val_accuracy: 0.9195\n",
      "Epoch 58/400\n",
      "2787/2787 [==============================] - 39s 14ms/step - loss: 0.1282 - accuracy: 0.9542 - val_loss: 0.3572 - val_accuracy: 0.9051\n",
      "Epoch 59/400\n",
      "2787/2787 [==============================] - 39s 14ms/step - loss: 0.1270 - accuracy: 0.9563 - val_loss: 0.2968 - val_accuracy: 0.9152\n",
      "Epoch 60/400\n",
      "2787/2787 [==============================] - 39s 14ms/step - loss: 0.1233 - accuracy: 0.9580 - val_loss: 0.3087 - val_accuracy: 0.9198\n",
      "Epoch 61/400\n",
      "2787/2787 [==============================] - 39s 14ms/step - loss: 0.1235 - accuracy: 0.9583 - val_loss: 0.3021 - val_accuracy: 0.9162\n",
      "Epoch 62/400\n",
      "2787/2787 [==============================] - 39s 14ms/step - loss: 0.1201 - accuracy: 0.9585 - val_loss: 0.2837 - val_accuracy: 0.9170\n",
      "Epoch 63/400\n",
      "2787/2787 [==============================] - 39s 14ms/step - loss: 0.1214 - accuracy: 0.9575 - val_loss: 0.3325 - val_accuracy: 0.9065\n",
      "Epoch 64/400\n",
      "2787/2787 [==============================] - 39s 14ms/step - loss: 0.1205 - accuracy: 0.9578 - val_loss: 0.3286 - val_accuracy: 0.9083\n",
      "Epoch 65/400\n",
      "2787/2787 [==============================] - 40s 14ms/step - loss: 0.1139 - accuracy: 0.9605 - val_loss: 0.3520 - val_accuracy: 0.9047\n",
      "Epoch 66/400\n",
      "2787/2787 [==============================] - 39s 14ms/step - loss: 0.1166 - accuracy: 0.9598 - val_loss: 0.3051 - val_accuracy: 0.9159\n",
      "Epoch 67/400\n",
      "2787/2787 [==============================] - 39s 14ms/step - loss: 0.1142 - accuracy: 0.9613 - val_loss: 0.2857 - val_accuracy: 0.9274\n",
      "Epoch 68/400\n",
      "2787/2787 [==============================] - 39s 14ms/step - loss: 0.1144 - accuracy: 0.9607 - val_loss: 0.2863 - val_accuracy: 0.9188\n",
      "Epoch 69/400\n",
      "2787/2787 [==============================] - 39s 14ms/step - loss: 0.1203 - accuracy: 0.9584 - val_loss: 0.3049 - val_accuracy: 0.9188\n",
      "Epoch 70/400\n",
      "2787/2787 [==============================] - 39s 14ms/step - loss: 0.1156 - accuracy: 0.9607 - val_loss: 0.3741 - val_accuracy: 0.9044\n",
      "Epoch 71/400\n",
      "2787/2787 [==============================] - 39s 14ms/step - loss: 0.1124 - accuracy: 0.9621 - val_loss: 0.3087 - val_accuracy: 0.9170\n",
      "Epoch 72/400\n",
      "2787/2787 [==============================] - 39s 14ms/step - loss: 0.1155 - accuracy: 0.9604 - val_loss: 0.2971 - val_accuracy: 0.9227\n",
      "Epoch 73/400\n",
      "2787/2787 [==============================] - 39s 14ms/step - loss: 0.1060 - accuracy: 0.9631 - val_loss: 0.2873 - val_accuracy: 0.9249\n",
      "Epoch 74/400\n",
      "2787/2787 [==============================] - 39s 14ms/step - loss: 0.1109 - accuracy: 0.9605 - val_loss: 0.2873 - val_accuracy: 0.9249\n",
      "Epoch 75/400\n",
      "2787/2787 [==============================] - 38s 14ms/step - loss: 0.1104 - accuracy: 0.9607 - val_loss: 0.3450 - val_accuracy: 0.9101\n",
      "Epoch 76/400\n",
      "2787/2787 [==============================] - 40s 14ms/step - loss: 0.1098 - accuracy: 0.9620 - val_loss: 0.3386 - val_accuracy: 0.9155\n",
      "Epoch 77/400\n",
      "2787/2787 [==============================] - 39s 14ms/step - loss: 0.1132 - accuracy: 0.9613 - val_loss: 0.3276 - val_accuracy: 0.9112\n",
      "Epoch 78/400\n",
      "2787/2787 [==============================] - 39s 14ms/step - loss: 0.1074 - accuracy: 0.9637 - val_loss: 0.3007 - val_accuracy: 0.9234\n",
      "Epoch 79/400\n",
      "2787/2787 [==============================] - 39s 14ms/step - loss: 0.1095 - accuracy: 0.9629 - val_loss: 0.2935 - val_accuracy: 0.9245\n",
      "Epoch 80/400\n",
      "2787/2787 [==============================] - 39s 14ms/step - loss: 0.1052 - accuracy: 0.9645 - val_loss: 0.3322 - val_accuracy: 0.9173\n",
      "Epoch 81/400\n",
      "2787/2787 [==============================] - 39s 14ms/step - loss: 0.1077 - accuracy: 0.9646 - val_loss: 0.3264 - val_accuracy: 0.9101\n",
      "Epoch 82/400\n",
      "2787/2787 [==============================] - 39s 14ms/step - loss: 0.0995 - accuracy: 0.9664 - val_loss: 0.2950 - val_accuracy: 0.9238\n",
      "Epoch 83/400\n",
      "2787/2787 [==============================] - 39s 14ms/step - loss: 0.1051 - accuracy: 0.9640 - val_loss: 0.2798 - val_accuracy: 0.9263\n",
      "Epoch 84/400\n",
      "2787/2787 [==============================] - 39s 14ms/step - loss: 0.1042 - accuracy: 0.9655 - val_loss: 0.3688 - val_accuracy: 0.9094\n",
      "Epoch 85/400\n",
      "2787/2787 [==============================] - 39s 14ms/step - loss: 0.1050 - accuracy: 0.9655 - val_loss: 0.3019 - val_accuracy: 0.9202\n",
      "Epoch 86/400\n",
      "2787/2787 [==============================] - 39s 14ms/step - loss: 0.1061 - accuracy: 0.9645 - val_loss: 0.3436 - val_accuracy: 0.9076\n",
      "Epoch 87/400\n",
      "2787/2787 [==============================] - 39s 14ms/step - loss: 0.1020 - accuracy: 0.9650 - val_loss: 0.3495 - val_accuracy: 0.9141\n",
      "Epoch 88/400\n",
      "2787/2787 [==============================] - 39s 14ms/step - loss: 0.0994 - accuracy: 0.9665 - val_loss: 0.2588 - val_accuracy: 0.9260\n",
      "Epoch 89/400\n",
      "2787/2787 [==============================] - 39s 14ms/step - loss: 0.1035 - accuracy: 0.9653 - val_loss: 0.3391 - val_accuracy: 0.9148\n",
      "Epoch 90/400\n",
      "2787/2787 [==============================] - 39s 14ms/step - loss: 0.1016 - accuracy: 0.9661 - val_loss: 0.2888 - val_accuracy: 0.9252\n",
      "Epoch 91/400\n",
      "2787/2787 [==============================] - 39s 14ms/step - loss: 0.1045 - accuracy: 0.9643 - val_loss: 0.2716 - val_accuracy: 0.9292\n",
      "Epoch 92/400\n",
      "2787/2787 [==============================] - 39s 14ms/step - loss: 0.0986 - accuracy: 0.9673 - val_loss: 0.2784 - val_accuracy: 0.9260\n",
      "Epoch 93/400\n",
      "2787/2787 [==============================] - 39s 14ms/step - loss: 0.0965 - accuracy: 0.9677 - val_loss: 0.2613 - val_accuracy: 0.9288\n",
      "Epoch 94/400\n",
      "2787/2787 [==============================] - 39s 14ms/step - loss: 0.0973 - accuracy: 0.9668 - val_loss: 0.3026 - val_accuracy: 0.9213\n",
      "Epoch 95/400\n",
      "2787/2787 [==============================] - 39s 14ms/step - loss: 0.0974 - accuracy: 0.9669 - val_loss: 0.2799 - val_accuracy: 0.9285\n",
      "Epoch 96/400\n",
      "2787/2787 [==============================] - 39s 14ms/step - loss: 0.0982 - accuracy: 0.9674 - val_loss: 0.2684 - val_accuracy: 0.9256\n",
      "Epoch 97/400\n",
      "2787/2787 [==============================] - 39s 14ms/step - loss: 0.1024 - accuracy: 0.9639 - val_loss: 0.2841 - val_accuracy: 0.9216\n",
      "Epoch 98/400\n",
      "2787/2787 [==============================] - 39s 14ms/step - loss: 0.0969 - accuracy: 0.9661 - val_loss: 0.2968 - val_accuracy: 0.9202\n",
      "Epoch 99/400\n",
      "2787/2787 [==============================] - 39s 14ms/step - loss: 0.0936 - accuracy: 0.9677 - val_loss: 0.2516 - val_accuracy: 0.9313\n",
      "Epoch 100/400\n",
      "2787/2787 [==============================] - 39s 14ms/step - loss: 0.0929 - accuracy: 0.9684 - val_loss: 0.2813 - val_accuracy: 0.9292\n",
      "Epoch 101/400\n",
      "2787/2787 [==============================] - 39s 14ms/step - loss: 0.0945 - accuracy: 0.9680 - val_loss: 0.3064 - val_accuracy: 0.9170\n",
      "Epoch 102/400\n",
      "2787/2787 [==============================] - 39s 14ms/step - loss: 0.0943 - accuracy: 0.9661 - val_loss: 0.2744 - val_accuracy: 0.9267\n",
      "Epoch 103/400\n",
      "2787/2787 [==============================] - 39s 14ms/step - loss: 0.0902 - accuracy: 0.9696 - val_loss: 0.3555 - val_accuracy: 0.9119\n",
      "Epoch 104/400\n",
      "2787/2787 [==============================] - 38s 14ms/step - loss: 0.0952 - accuracy: 0.9680 - val_loss: 0.3092 - val_accuracy: 0.9137\n",
      "Epoch 105/400\n",
      "2787/2787 [==============================] - 39s 14ms/step - loss: 0.0901 - accuracy: 0.9689 - val_loss: 0.2688 - val_accuracy: 0.9328\n",
      "Epoch 106/400\n",
      "2787/2787 [==============================] - 39s 14ms/step - loss: 0.0895 - accuracy: 0.9692 - val_loss: 0.3152 - val_accuracy: 0.9180\n",
      "Epoch 107/400\n",
      "2787/2787 [==============================] - 39s 14ms/step - loss: 0.0924 - accuracy: 0.9676 - val_loss: 0.3142 - val_accuracy: 0.9191\n",
      "Epoch 108/400\n",
      "2787/2787 [==============================] - 39s 14ms/step - loss: 0.0880 - accuracy: 0.9709 - val_loss: 0.3189 - val_accuracy: 0.9195\n",
      "Epoch 109/400\n",
      "2787/2787 [==============================] - 39s 14ms/step - loss: 0.0946 - accuracy: 0.9685 - val_loss: 0.2622 - val_accuracy: 0.9299\n",
      "Epoch 110/400\n",
      "2787/2787 [==============================] - 39s 14ms/step - loss: 0.0903 - accuracy: 0.9691 - val_loss: 0.2944 - val_accuracy: 0.9245\n",
      "Epoch 111/400\n",
      "2787/2787 [==============================] - 39s 14ms/step - loss: 0.0896 - accuracy: 0.9699 - val_loss: 0.2956 - val_accuracy: 0.9249\n",
      "Epoch 112/400\n",
      "2787/2787 [==============================] - 39s 14ms/step - loss: 0.0841 - accuracy: 0.9696 - val_loss: 0.3214 - val_accuracy: 0.9234\n",
      "Epoch 113/400\n",
      "2787/2787 [==============================] - 38s 14ms/step - loss: 0.0871 - accuracy: 0.9715 - val_loss: 0.3534 - val_accuracy: 0.9195\n",
      "Epoch 114/400\n",
      "2787/2787 [==============================] - 39s 14ms/step - loss: 0.0853 - accuracy: 0.9717 - val_loss: 0.2916 - val_accuracy: 0.9242\n",
      "Epoch 115/400\n",
      "2787/2787 [==============================] - 39s 14ms/step - loss: 0.0894 - accuracy: 0.9706 - val_loss: 0.2798 - val_accuracy: 0.9281\n",
      "Epoch 116/400\n",
      "2787/2787 [==============================] - 39s 14ms/step - loss: 0.0870 - accuracy: 0.9693 - val_loss: 0.3264 - val_accuracy: 0.9195\n",
      "Epoch 117/400\n",
      "2787/2787 [==============================] - 39s 14ms/step - loss: 0.0891 - accuracy: 0.9697 - val_loss: 0.2682 - val_accuracy: 0.9357\n",
      "Epoch 118/400\n",
      "2787/2787 [==============================] - 39s 14ms/step - loss: 0.0816 - accuracy: 0.9729 - val_loss: 0.3289 - val_accuracy: 0.9224\n",
      "Epoch 119/400\n",
      "2787/2787 [==============================] - 38s 14ms/step - loss: 0.0898 - accuracy: 0.9697 - val_loss: 0.2826 - val_accuracy: 0.9303\n",
      "Epoch 120/400\n",
      "2787/2787 [==============================] - 39s 14ms/step - loss: 0.0850 - accuracy: 0.9718 - val_loss: 0.3201 - val_accuracy: 0.9224\n",
      "Epoch 121/400\n",
      "2787/2787 [==============================] - 39s 14ms/step - loss: 0.0882 - accuracy: 0.9710 - val_loss: 0.3082 - val_accuracy: 0.9249\n",
      "Epoch 122/400\n",
      "2787/2787 [==============================] - 39s 14ms/step - loss: 0.0837 - accuracy: 0.9725 - val_loss: 0.2591 - val_accuracy: 0.9339\n",
      "Epoch 123/400\n",
      "2787/2787 [==============================] - 39s 14ms/step - loss: 0.0796 - accuracy: 0.9736 - val_loss: 0.3589 - val_accuracy: 0.9137\n",
      "Epoch 124/400\n",
      "2787/2787 [==============================] - 39s 14ms/step - loss: 0.0847 - accuracy: 0.9718 - val_loss: 0.2558 - val_accuracy: 0.9400\n",
      "Epoch 125/400\n",
      "2787/2787 [==============================] - 39s 14ms/step - loss: 0.0795 - accuracy: 0.9736 - val_loss: 0.2642 - val_accuracy: 0.9367\n",
      "Epoch 126/400\n",
      "2787/2787 [==============================] - 39s 14ms/step - loss: 0.0819 - accuracy: 0.9735 - val_loss: 0.2630 - val_accuracy: 0.9324\n",
      "Epoch 127/400\n",
      "2787/2787 [==============================] - 39s 14ms/step - loss: 0.0868 - accuracy: 0.9712 - val_loss: 0.2767 - val_accuracy: 0.9306\n",
      "Epoch 128/400\n",
      "2787/2787 [==============================] - 39s 14ms/step - loss: 0.0834 - accuracy: 0.9727 - val_loss: 0.2793 - val_accuracy: 0.9299\n",
      "Epoch 129/400\n",
      "2787/2787 [==============================] - 39s 14ms/step - loss: 0.0841 - accuracy: 0.9716 - val_loss: 0.3155 - val_accuracy: 0.9202\n",
      "Epoch 130/400\n",
      "2787/2787 [==============================] - 39s 14ms/step - loss: 0.0753 - accuracy: 0.9756 - val_loss: 0.2642 - val_accuracy: 0.9346\n",
      "Epoch 131/400\n",
      "2787/2787 [==============================] - 39s 14ms/step - loss: 0.0830 - accuracy: 0.9721 - val_loss: 0.2556 - val_accuracy: 0.9342\n",
      "Epoch 132/400\n",
      "2787/2787 [==============================] - 39s 14ms/step - loss: 0.0763 - accuracy: 0.9748 - val_loss: 0.2678 - val_accuracy: 0.9357\n",
      "Epoch 133/400\n",
      "2787/2787 [==============================] - 39s 14ms/step - loss: 0.0780 - accuracy: 0.9739 - val_loss: 0.2959 - val_accuracy: 0.9270\n",
      "Epoch 134/400\n",
      "2787/2787 [==============================] - 39s 14ms/step - loss: 0.0787 - accuracy: 0.9733 - val_loss: 0.2913 - val_accuracy: 0.9303\n",
      "Epoch 135/400\n",
      "2787/2787 [==============================] - 39s 14ms/step - loss: 0.0767 - accuracy: 0.9729 - val_loss: 0.3066 - val_accuracy: 0.9245\n",
      "Epoch 136/400\n",
      "2787/2787 [==============================] - 39s 14ms/step - loss: 0.0835 - accuracy: 0.9735 - val_loss: 0.2508 - val_accuracy: 0.9349\n",
      "Epoch 137/400\n",
      "2787/2787 [==============================] - 38s 14ms/step - loss: 0.0816 - accuracy: 0.9744 - val_loss: 0.2815 - val_accuracy: 0.9306\n",
      "Epoch 138/400\n",
      "2787/2787 [==============================] - 39s 14ms/step - loss: 0.0799 - accuracy: 0.9737 - val_loss: 0.2624 - val_accuracy: 0.9335\n",
      "Epoch 139/400\n",
      "2787/2787 [==============================] - 39s 14ms/step - loss: 0.0820 - accuracy: 0.9724 - val_loss: 0.3215 - val_accuracy: 0.9198\n",
      "Epoch 140/400\n",
      "2787/2787 [==============================] - 39s 14ms/step - loss: 0.0800 - accuracy: 0.9744 - val_loss: 0.3853 - val_accuracy: 0.9083\n",
      "Epoch 141/400\n",
      "2787/2787 [==============================] - 39s 14ms/step - loss: 0.0808 - accuracy: 0.9727 - val_loss: 0.2672 - val_accuracy: 0.9306\n",
      "Epoch 142/400\n",
      "2787/2787 [==============================] - 39s 14ms/step - loss: 0.0773 - accuracy: 0.9753 - val_loss: 0.2951 - val_accuracy: 0.9242\n",
      "Epoch 143/400\n",
      "2787/2787 [==============================] - 39s 14ms/step - loss: 0.0797 - accuracy: 0.9734 - val_loss: 0.2797 - val_accuracy: 0.9317\n",
      "Epoch 144/400\n",
      "2787/2787 [==============================] - 38s 14ms/step - loss: 0.0816 - accuracy: 0.9730 - val_loss: 0.3340 - val_accuracy: 0.9227\n",
      "Epoch 145/400\n",
      "2787/2787 [==============================] - 39s 14ms/step - loss: 0.0766 - accuracy: 0.9744 - val_loss: 0.2975 - val_accuracy: 0.9274\n",
      "Epoch 146/400\n",
      "2787/2787 [==============================] - 39s 14ms/step - loss: 0.0826 - accuracy: 0.9725 - val_loss: 0.2720 - val_accuracy: 0.9328\n",
      "Epoch 147/400\n",
      "2787/2787 [==============================] - 39s 14ms/step - loss: 0.0743 - accuracy: 0.9751 - val_loss: 0.3018 - val_accuracy: 0.9303\n",
      "Epoch 148/400\n",
      "2787/2787 [==============================] - 39s 14ms/step - loss: 0.0778 - accuracy: 0.9743 - val_loss: 0.2901 - val_accuracy: 0.9288\n",
      "Epoch 149/400\n",
      "2787/2787 [==============================] - 39s 14ms/step - loss: 0.0758 - accuracy: 0.9747 - val_loss: 0.2571 - val_accuracy: 0.9339\n",
      "Epoch 150/400\n",
      "2787/2787 [==============================] - 38s 14ms/step - loss: 0.0802 - accuracy: 0.9734 - val_loss: 0.2984 - val_accuracy: 0.9274\n",
      "Epoch 151/400\n",
      "2787/2787 [==============================] - 39s 14ms/step - loss: 0.0732 - accuracy: 0.9758 - val_loss: 0.2916 - val_accuracy: 0.9285\n",
      "Epoch 152/400\n",
      "2787/2787 [==============================] - 39s 14ms/step - loss: 0.0761 - accuracy: 0.9735 - val_loss: 0.2889 - val_accuracy: 0.9353\n",
      "Epoch 153/400\n",
      "2787/2787 [==============================] - 38s 14ms/step - loss: 0.0755 - accuracy: 0.9739 - val_loss: 0.2866 - val_accuracy: 0.9375\n",
      "Epoch 154/400\n",
      "2787/2787 [==============================] - 39s 14ms/step - loss: 0.0744 - accuracy: 0.9750 - val_loss: 0.3333 - val_accuracy: 0.9270\n",
      "Epoch 155/400\n",
      "2787/2787 [==============================] - 39s 14ms/step - loss: 0.0782 - accuracy: 0.9733 - val_loss: 0.3019 - val_accuracy: 0.9310\n",
      "Epoch 156/400\n",
      "2787/2787 [==============================] - 39s 14ms/step - loss: 0.0752 - accuracy: 0.9746 - val_loss: 0.2870 - val_accuracy: 0.9277\n",
      "Epoch 157/400\n",
      "2787/2787 [==============================] - 39s 14ms/step - loss: 0.0735 - accuracy: 0.9762 - val_loss: 0.3257 - val_accuracy: 0.9252\n",
      "Epoch 158/400\n",
      "2787/2787 [==============================] - 39s 14ms/step - loss: 0.0745 - accuracy: 0.9751 - val_loss: 0.3228 - val_accuracy: 0.9234\n",
      "Epoch 159/400\n",
      "2787/2787 [==============================] - 39s 14ms/step - loss: 0.0732 - accuracy: 0.9752 - val_loss: 0.3146 - val_accuracy: 0.9321\n",
      "Epoch 160/400\n",
      "2787/2787 [==============================] - 39s 14ms/step - loss: 0.0814 - accuracy: 0.9737 - val_loss: 0.3181 - val_accuracy: 0.9242\n",
      "Epoch 161/400\n",
      "2787/2787 [==============================] - 39s 14ms/step - loss: 0.0706 - accuracy: 0.9769 - val_loss: 0.2821 - val_accuracy: 0.9285\n",
      "Epoch 162/400\n",
      "2787/2787 [==============================] - 39s 14ms/step - loss: 0.0780 - accuracy: 0.9744 - val_loss: 0.2891 - val_accuracy: 0.9324\n",
      "Epoch 163/400\n",
      "2787/2787 [==============================] - 39s 14ms/step - loss: 0.0699 - accuracy: 0.9775 - val_loss: 0.2708 - val_accuracy: 0.9410\n",
      "Epoch 164/400\n",
      "2787/2787 [==============================] - 39s 14ms/step - loss: 0.0689 - accuracy: 0.9771 - val_loss: 0.3060 - val_accuracy: 0.9303\n",
      "Epoch 165/400\n",
      "2787/2787 [==============================] - 39s 14ms/step - loss: 0.0754 - accuracy: 0.9755 - val_loss: 0.2912 - val_accuracy: 0.9317\n",
      "Epoch 166/400\n",
      "2787/2787 [==============================] - 39s 14ms/step - loss: 0.0654 - accuracy: 0.9771 - val_loss: 0.2633 - val_accuracy: 0.9328\n",
      "Epoch 167/400\n",
      "2787/2787 [==============================] - 39s 14ms/step - loss: 0.0688 - accuracy: 0.9766 - val_loss: 0.3009 - val_accuracy: 0.9324\n",
      "Epoch 168/400\n",
      "2787/2787 [==============================] - 39s 14ms/step - loss: 0.0777 - accuracy: 0.9746 - val_loss: 0.2849 - val_accuracy: 0.9364\n",
      "Epoch 169/400\n",
      "2787/2787 [==============================] - 39s 14ms/step - loss: 0.0744 - accuracy: 0.9743 - val_loss: 0.3211 - val_accuracy: 0.9231\n",
      "Epoch 170/400\n",
      "2787/2787 [==============================] - 39s 14ms/step - loss: 0.0762 - accuracy: 0.9750 - val_loss: 0.2944 - val_accuracy: 0.9303\n",
      "Epoch 171/400\n",
      "2787/2787 [==============================] - 39s 14ms/step - loss: 0.0765 - accuracy: 0.9754 - val_loss: 0.2871 - val_accuracy: 0.9342\n",
      "Epoch 172/400\n",
      "2787/2787 [==============================] - 39s 14ms/step - loss: 0.0696 - accuracy: 0.9770 - val_loss: 0.2704 - val_accuracy: 0.9403\n",
      "Epoch 173/400\n",
      "2787/2787 [==============================] - 39s 14ms/step - loss: 0.0625 - accuracy: 0.9797 - val_loss: 0.2840 - val_accuracy: 0.9328\n",
      "Epoch 174/400\n",
      "2787/2787 [==============================] - 39s 14ms/step - loss: 0.0755 - accuracy: 0.9761 - val_loss: 0.2568 - val_accuracy: 0.9436\n",
      "Epoch 175/400\n",
      "2787/2787 [==============================] - 38s 14ms/step - loss: 0.0731 - accuracy: 0.9769 - val_loss: 0.2708 - val_accuracy: 0.9375\n",
      "Epoch 176/400\n",
      "2787/2787 [==============================] - 39s 14ms/step - loss: 0.0709 - accuracy: 0.9761 - val_loss: 0.2967 - val_accuracy: 0.9342\n",
      "Epoch 177/400\n",
      "2787/2787 [==============================] - 39s 14ms/step - loss: 0.0696 - accuracy: 0.9766 - val_loss: 0.2952 - val_accuracy: 0.9317\n",
      "Epoch 178/400\n",
      "2787/2787 [==============================] - 39s 14ms/step - loss: 0.0708 - accuracy: 0.9769 - val_loss: 0.3280 - val_accuracy: 0.9295\n",
      "Epoch 179/400\n",
      "2787/2787 [==============================] - 39s 14ms/step - loss: 0.0720 - accuracy: 0.9764 - val_loss: 0.3137 - val_accuracy: 0.9321\n",
      "Epoch 180/400\n",
      "2787/2787 [==============================] - 39s 14ms/step - loss: 0.0644 - accuracy: 0.9789 - val_loss: 0.2946 - val_accuracy: 0.9371\n",
      "Epoch 181/400\n",
      "2787/2787 [==============================] - 39s 14ms/step - loss: 0.0740 - accuracy: 0.9754 - val_loss: 0.2995 - val_accuracy: 0.9324\n",
      "Epoch 182/400\n",
      "2787/2787 [==============================] - 39s 14ms/step - loss: 0.0673 - accuracy: 0.9778 - val_loss: 0.3304 - val_accuracy: 0.9234\n",
      "Epoch 183/400\n",
      "2787/2787 [==============================] - 39s 14ms/step - loss: 0.0711 - accuracy: 0.9754 - val_loss: 0.3241 - val_accuracy: 0.9256\n",
      "Epoch 184/400\n",
      "2787/2787 [==============================] - 39s 14ms/step - loss: 0.0665 - accuracy: 0.9784 - val_loss: 0.2849 - val_accuracy: 0.9349\n",
      "Epoch 185/400\n",
      "2787/2787 [==============================] - 39s 14ms/step - loss: 0.0709 - accuracy: 0.9754 - val_loss: 0.3335 - val_accuracy: 0.9285\n",
      "Epoch 186/400\n",
      "2787/2787 [==============================] - 39s 14ms/step - loss: 0.0704 - accuracy: 0.9763 - val_loss: 0.3174 - val_accuracy: 0.9313\n",
      "Epoch 187/400\n",
      "2787/2787 [==============================] - 39s 14ms/step - loss: 0.0708 - accuracy: 0.9772 - val_loss: 0.3230 - val_accuracy: 0.9263\n",
      "Epoch 188/400\n",
      "2787/2787 [==============================] - 39s 14ms/step - loss: 0.0733 - accuracy: 0.9759 - val_loss: 0.2927 - val_accuracy: 0.9331\n",
      "Epoch 189/400\n",
      "2787/2787 [==============================] - 39s 14ms/step - loss: 0.0724 - accuracy: 0.9771 - val_loss: 0.2750 - val_accuracy: 0.9346\n",
      "Epoch 190/400\n",
      "2787/2787 [==============================] - 39s 14ms/step - loss: 0.0698 - accuracy: 0.9769 - val_loss: 0.3132 - val_accuracy: 0.9267\n",
      "Epoch 191/400\n",
      "2787/2787 [==============================] - 39s 14ms/step - loss: 0.0674 - accuracy: 0.9763 - val_loss: 0.3032 - val_accuracy: 0.9306\n",
      "Epoch 192/400\n",
      "2787/2787 [==============================] - 39s 14ms/step - loss: 0.0681 - accuracy: 0.9787 - val_loss: 0.3071 - val_accuracy: 0.9285\n",
      "Epoch 193/400\n",
      "2787/2787 [==============================] - 39s 14ms/step - loss: 0.0702 - accuracy: 0.9780 - val_loss: 0.2717 - val_accuracy: 0.9382\n",
      "Epoch 194/400\n",
      "2787/2787 [==============================] - 39s 14ms/step - loss: 0.0652 - accuracy: 0.9792 - val_loss: 0.3245 - val_accuracy: 0.9274\n",
      "Epoch 195/400\n",
      "2787/2787 [==============================] - 39s 14ms/step - loss: 0.0693 - accuracy: 0.9764 - val_loss: 0.3055 - val_accuracy: 0.9295\n",
      "Epoch 196/400\n",
      "2787/2787 [==============================] - 39s 14ms/step - loss: 0.0678 - accuracy: 0.9784 - val_loss: 0.2974 - val_accuracy: 0.9303\n",
      "Epoch 197/400\n",
      "2787/2787 [==============================] - 38s 14ms/step - loss: 0.0711 - accuracy: 0.9764 - val_loss: 0.2958 - val_accuracy: 0.9378\n",
      "Epoch 198/400\n",
      "2787/2787 [==============================] - 39s 14ms/step - loss: 0.0657 - accuracy: 0.9780 - val_loss: 0.3326 - val_accuracy: 0.9260\n",
      "Epoch 199/400\n",
      "2787/2787 [==============================] - 39s 14ms/step - loss: 0.0679 - accuracy: 0.9773 - val_loss: 0.2913 - val_accuracy: 0.9346\n",
      "Epoch 200/400\n",
      "2787/2787 [==============================] - 39s 14ms/step - loss: 0.0669 - accuracy: 0.9787 - val_loss: 0.3170 - val_accuracy: 0.9274\n",
      "Epoch 201/400\n",
      "2787/2787 [==============================] - 39s 14ms/step - loss: 0.0719 - accuracy: 0.9751 - val_loss: 0.2980 - val_accuracy: 0.9299\n",
      "Epoch 202/400\n",
      "2787/2787 [==============================] - 39s 14ms/step - loss: 0.0692 - accuracy: 0.9774 - val_loss: 0.2856 - val_accuracy: 0.9389\n",
      "Epoch 203/400\n",
      "2787/2787 [==============================] - 39s 14ms/step - loss: 0.0700 - accuracy: 0.9771 - val_loss: 0.2513 - val_accuracy: 0.9432\n",
      "Epoch 204/400\n",
      "2787/2787 [==============================] - 39s 14ms/step - loss: 0.0684 - accuracy: 0.9773 - val_loss: 0.2521 - val_accuracy: 0.9400\n",
      "Epoch 205/400\n",
      "2787/2787 [==============================] - 39s 14ms/step - loss: 0.0630 - accuracy: 0.9782 - val_loss: 0.3168 - val_accuracy: 0.9281\n",
      "Epoch 206/400\n",
      "2787/2787 [==============================] - 39s 14ms/step - loss: 0.0707 - accuracy: 0.9757 - val_loss: 0.2926 - val_accuracy: 0.9400\n",
      "Epoch 207/400\n",
      "2787/2787 [==============================] - 39s 14ms/step - loss: 0.0677 - accuracy: 0.9790 - val_loss: 0.2999 - val_accuracy: 0.9349\n",
      "Epoch 208/400\n",
      "2787/2787 [==============================] - 39s 14ms/step - loss: 0.0630 - accuracy: 0.9795 - val_loss: 0.2788 - val_accuracy: 0.9385\n",
      "Epoch 209/400\n",
      "2787/2787 [==============================] - 39s 14ms/step - loss: 0.0710 - accuracy: 0.9774 - val_loss: 0.2772 - val_accuracy: 0.9339\n",
      "Epoch 210/400\n",
      "2787/2787 [==============================] - 39s 14ms/step - loss: 0.0624 - accuracy: 0.9786 - val_loss: 0.3339 - val_accuracy: 0.9249\n",
      "Epoch 211/400\n",
      "2787/2787 [==============================] - 39s 14ms/step - loss: 0.0664 - accuracy: 0.9782 - val_loss: 0.2860 - val_accuracy: 0.9389\n",
      "Epoch 212/400\n",
      "2787/2787 [==============================] - 39s 14ms/step - loss: 0.0674 - accuracy: 0.9786 - val_loss: 0.3034 - val_accuracy: 0.9295\n",
      "Epoch 213/400\n",
      "2787/2787 [==============================] - 39s 14ms/step - loss: 0.0630 - accuracy: 0.9786 - val_loss: 0.3478 - val_accuracy: 0.9238\n",
      "Epoch 214/400\n",
      "2787/2787 [==============================] - 39s 14ms/step - loss: 0.0672 - accuracy: 0.9773 - val_loss: 0.2838 - val_accuracy: 0.9382\n",
      "Epoch 215/400\n",
      "2787/2787 [==============================] - 38s 14ms/step - loss: 0.0618 - accuracy: 0.9791 - val_loss: 0.2943 - val_accuracy: 0.9349\n",
      "Epoch 216/400\n",
      "2787/2787 [==============================] - 39s 14ms/step - loss: 0.0653 - accuracy: 0.9789 - val_loss: 0.3076 - val_accuracy: 0.9313\n",
      "Epoch 217/400\n",
      "2787/2787 [==============================] - 39s 14ms/step - loss: 0.0646 - accuracy: 0.9786 - val_loss: 0.3002 - val_accuracy: 0.9360\n",
      "Epoch 218/400\n",
      "2787/2787 [==============================] - 39s 14ms/step - loss: 0.0662 - accuracy: 0.9790 - val_loss: 0.3277 - val_accuracy: 0.9256\n",
      "Epoch 219/400\n",
      "2787/2787 [==============================] - 38s 14ms/step - loss: 0.0637 - accuracy: 0.9784 - val_loss: 0.3038 - val_accuracy: 0.9353\n",
      "Epoch 220/400\n",
      "2787/2787 [==============================] - 39s 14ms/step - loss: 0.0625 - accuracy: 0.9799 - val_loss: 0.3348 - val_accuracy: 0.9270\n",
      "Epoch 221/400\n",
      "2787/2787 [==============================] - 38s 14ms/step - loss: 0.0635 - accuracy: 0.9792 - val_loss: 0.3005 - val_accuracy: 0.9349\n",
      "Epoch 222/400\n",
      "2787/2787 [==============================] - 39s 14ms/step - loss: 0.0690 - accuracy: 0.9773 - val_loss: 0.3035 - val_accuracy: 0.9382\n",
      "Epoch 223/400\n",
      "2787/2787 [==============================] - 39s 14ms/step - loss: 0.0656 - accuracy: 0.9779 - val_loss: 0.3009 - val_accuracy: 0.9328\n",
      "Epoch 224/400\n",
      "2787/2787 [==============================] - 38s 14ms/step - loss: 0.0638 - accuracy: 0.9788 - val_loss: 0.3499 - val_accuracy: 0.9227\n",
      "Epoch 225/400\n",
      "2787/2787 [==============================] - 38s 14ms/step - loss: 0.0606 - accuracy: 0.9801 - val_loss: 0.3154 - val_accuracy: 0.9396\n",
      "Epoch 226/400\n",
      "2787/2787 [==============================] - 39s 14ms/step - loss: 0.0647 - accuracy: 0.9782 - val_loss: 0.3226 - val_accuracy: 0.9292\n",
      "Epoch 227/400\n",
      "2787/2787 [==============================] - 38s 14ms/step - loss: 0.0702 - accuracy: 0.9778 - val_loss: 0.3399 - val_accuracy: 0.9281\n",
      "Epoch 228/400\n",
      "2787/2787 [==============================] - 39s 14ms/step - loss: 0.0606 - accuracy: 0.9803 - val_loss: 0.3289 - val_accuracy: 0.9285\n",
      "Epoch 229/400\n",
      "2787/2787 [==============================] - 39s 14ms/step - loss: 0.0649 - accuracy: 0.9789 - val_loss: 0.2902 - val_accuracy: 0.9353\n",
      "Epoch 230/400\n",
      "2787/2787 [==============================] - 39s 14ms/step - loss: 0.0628 - accuracy: 0.9793 - val_loss: 0.3074 - val_accuracy: 0.9371\n",
      "Epoch 231/400\n",
      "2787/2787 [==============================] - 39s 14ms/step - loss: 0.0653 - accuracy: 0.9792 - val_loss: 0.2882 - val_accuracy: 0.9375\n",
      "Epoch 232/400\n",
      "2787/2787 [==============================] - 39s 14ms/step - loss: 0.0635 - accuracy: 0.9801 - val_loss: 0.3429 - val_accuracy: 0.9267\n",
      "Epoch 233/400\n",
      "2787/2787 [==============================] - 39s 14ms/step - loss: 0.0613 - accuracy: 0.9803 - val_loss: 0.2983 - val_accuracy: 0.9353\n",
      "Epoch 234/400\n",
      "2787/2787 [==============================] - 39s 14ms/step - loss: 0.0578 - accuracy: 0.9809 - val_loss: 0.3187 - val_accuracy: 0.9353\n",
      "Epoch 235/400\n",
      "2787/2787 [==============================] - 39s 14ms/step - loss: 0.0629 - accuracy: 0.9789 - val_loss: 0.3229 - val_accuracy: 0.9277\n",
      "Epoch 236/400\n",
      "2787/2787 [==============================] - 39s 14ms/step - loss: 0.0696 - accuracy: 0.9773 - val_loss: 0.3106 - val_accuracy: 0.9313\n",
      "Epoch 237/400\n",
      "2787/2787 [==============================] - 39s 14ms/step - loss: 0.0614 - accuracy: 0.9804 - val_loss: 0.3550 - val_accuracy: 0.9252\n",
      "Epoch 238/400\n",
      "2787/2787 [==============================] - 39s 14ms/step - loss: 0.0642 - accuracy: 0.9781 - val_loss: 0.3268 - val_accuracy: 0.9288\n",
      "Epoch 239/400\n",
      "2787/2787 [==============================] - 39s 14ms/step - loss: 0.0591 - accuracy: 0.9808 - val_loss: 0.3193 - val_accuracy: 0.9249\n",
      "Epoch 240/400\n",
      "2787/2787 [==============================] - 38s 14ms/step - loss: 0.0596 - accuracy: 0.9794 - val_loss: 0.3107 - val_accuracy: 0.9357\n",
      "Epoch 241/400\n",
      "2787/2787 [==============================] - 39s 14ms/step - loss: 0.0625 - accuracy: 0.9799 - val_loss: 0.3275 - val_accuracy: 0.9339\n",
      "Epoch 242/400\n",
      "2787/2787 [==============================] - 39s 14ms/step - loss: 0.0632 - accuracy: 0.9793 - val_loss: 0.3156 - val_accuracy: 0.9375\n",
      "Epoch 243/400\n",
      "2787/2787 [==============================] - 38s 14ms/step - loss: 0.0635 - accuracy: 0.9795 - val_loss: 0.3104 - val_accuracy: 0.9353\n",
      "Epoch 244/400\n",
      "2787/2787 [==============================] - 39s 14ms/step - loss: 0.0618 - accuracy: 0.9801 - val_loss: 0.2827 - val_accuracy: 0.9378\n",
      "Epoch 245/400\n",
      "2787/2787 [==============================] - 39s 14ms/step - loss: 0.0631 - accuracy: 0.9795 - val_loss: 0.2899 - val_accuracy: 0.9375\n",
      "Epoch 246/400\n",
      "2787/2787 [==============================] - 39s 14ms/step - loss: 0.0635 - accuracy: 0.9796 - val_loss: 0.2917 - val_accuracy: 0.9389\n",
      "Epoch 247/400\n",
      "2787/2787 [==============================] - 39s 14ms/step - loss: 0.0645 - accuracy: 0.9787 - val_loss: 0.3063 - val_accuracy: 0.9349\n",
      "Epoch 248/400\n",
      "2787/2787 [==============================] - 39s 14ms/step - loss: 0.0598 - accuracy: 0.9805 - val_loss: 0.2991 - val_accuracy: 0.9353\n",
      "Epoch 249/400\n",
      "2787/2787 [==============================] - 39s 14ms/step - loss: 0.0619 - accuracy: 0.9798 - val_loss: 0.3371 - val_accuracy: 0.9317\n",
      "Epoch 250/400\n",
      "2787/2787 [==============================] - 38s 14ms/step - loss: 0.0634 - accuracy: 0.9795 - val_loss: 0.3063 - val_accuracy: 0.9324\n",
      "Epoch 251/400\n",
      "2787/2787 [==============================] - 39s 14ms/step - loss: 0.0604 - accuracy: 0.9805 - val_loss: 0.3449 - val_accuracy: 0.9313\n",
      "Epoch 252/400\n",
      "2787/2787 [==============================] - 39s 14ms/step - loss: 0.0616 - accuracy: 0.9795 - val_loss: 0.3322 - val_accuracy: 0.9303\n",
      "Epoch 253/400\n",
      "2787/2787 [==============================] - 39s 14ms/step - loss: 0.0659 - accuracy: 0.9786 - val_loss: 0.2987 - val_accuracy: 0.9321\n",
      "Epoch 254/400\n",
      "2787/2787 [==============================] - 39s 14ms/step - loss: 0.0604 - accuracy: 0.9800 - val_loss: 0.3259 - val_accuracy: 0.9328\n",
      "Epoch 255/400\n",
      "2787/2787 [==============================] - 39s 14ms/step - loss: 0.0607 - accuracy: 0.9799 - val_loss: 0.4032 - val_accuracy: 0.9170\n",
      "Epoch 256/400\n",
      "2787/2787 [==============================] - 39s 14ms/step - loss: 0.0604 - accuracy: 0.9795 - val_loss: 0.3604 - val_accuracy: 0.9260\n",
      "Epoch 257/400\n",
      "2787/2787 [==============================] - 39s 14ms/step - loss: 0.0658 - accuracy: 0.9781 - val_loss: 0.3170 - val_accuracy: 0.9339\n",
      "Epoch 258/400\n",
      "2787/2787 [==============================] - 39s 14ms/step - loss: 0.0589 - accuracy: 0.9811 - val_loss: 0.3152 - val_accuracy: 0.9303\n",
      "Epoch 259/400\n",
      "2787/2787 [==============================] - 39s 14ms/step - loss: 0.0592 - accuracy: 0.9801 - val_loss: 0.3709 - val_accuracy: 0.9209\n",
      "Epoch 260/400\n",
      "2787/2787 [==============================] - 39s 14ms/step - loss: 0.0632 - accuracy: 0.9790 - val_loss: 0.2889 - val_accuracy: 0.9360\n",
      "Epoch 261/400\n",
      "2787/2787 [==============================] - 39s 14ms/step - loss: 0.0604 - accuracy: 0.9808 - val_loss: 0.2792 - val_accuracy: 0.9400\n",
      "Epoch 262/400\n",
      "2787/2787 [==============================] - 39s 14ms/step - loss: 0.0604 - accuracy: 0.9802 - val_loss: 0.3189 - val_accuracy: 0.9393\n",
      "Epoch 263/400\n",
      "2787/2787 [==============================] - 39s 14ms/step - loss: 0.0553 - accuracy: 0.9814 - val_loss: 0.2876 - val_accuracy: 0.9425\n",
      "Epoch 264/400\n",
      "2787/2787 [==============================] - 39s 14ms/step - loss: 0.0618 - accuracy: 0.9787 - val_loss: 0.3233 - val_accuracy: 0.9410\n",
      "Epoch 265/400\n",
      "2787/2787 [==============================] - 39s 14ms/step - loss: 0.0612 - accuracy: 0.9798 - val_loss: 0.3323 - val_accuracy: 0.9324\n",
      "Epoch 266/400\n",
      "2787/2787 [==============================] - 39s 14ms/step - loss: 0.0643 - accuracy: 0.9794 - val_loss: 0.2885 - val_accuracy: 0.9396\n",
      "Epoch 267/400\n",
      "2787/2787 [==============================] - 39s 14ms/step - loss: 0.0604 - accuracy: 0.9812 - val_loss: 0.2971 - val_accuracy: 0.9360\n",
      "Epoch 268/400\n",
      "2787/2787 [==============================] - 39s 14ms/step - loss: 0.0609 - accuracy: 0.9808 - val_loss: 0.3192 - val_accuracy: 0.9299\n",
      "Epoch 269/400\n",
      "2787/2787 [==============================] - 39s 14ms/step - loss: 0.0639 - accuracy: 0.9800 - val_loss: 0.3036 - val_accuracy: 0.9349\n",
      "Epoch 270/400\n",
      "2787/2787 [==============================] - 39s 14ms/step - loss: 0.0632 - accuracy: 0.9787 - val_loss: 0.3010 - val_accuracy: 0.9335\n",
      "Epoch 271/400\n",
      "2787/2787 [==============================] - 39s 14ms/step - loss: 0.0589 - accuracy: 0.9804 - val_loss: 0.3125 - val_accuracy: 0.9346\n",
      "Epoch 272/400\n",
      "2787/2787 [==============================] - 39s 14ms/step - loss: 0.0579 - accuracy: 0.9815 - val_loss: 0.2882 - val_accuracy: 0.9378\n",
      "Epoch 273/400\n",
      "2787/2787 [==============================] - 39s 14ms/step - loss: 0.0594 - accuracy: 0.9814 - val_loss: 0.3185 - val_accuracy: 0.9349\n",
      "Epoch 274/400\n",
      "2787/2787 [==============================] - 39s 14ms/step - loss: 0.0611 - accuracy: 0.9805 - val_loss: 0.2969 - val_accuracy: 0.9393\n",
      "Epoch 275/400\n",
      "2787/2787 [==============================] - 39s 14ms/step - loss: 0.0567 - accuracy: 0.9814 - val_loss: 0.2919 - val_accuracy: 0.9367\n",
      "Epoch 276/400\n",
      "2787/2787 [==============================] - 39s 14ms/step - loss: 0.0588 - accuracy: 0.9802 - val_loss: 0.3212 - val_accuracy: 0.9360\n",
      "Epoch 277/400\n",
      "2787/2787 [==============================] - 39s 14ms/step - loss: 0.0557 - accuracy: 0.9804 - val_loss: 0.3044 - val_accuracy: 0.9403\n",
      "Epoch 278/400\n",
      "2787/2787 [==============================] - 39s 14ms/step - loss: 0.0590 - accuracy: 0.9814 - val_loss: 0.3402 - val_accuracy: 0.9353\n",
      "Epoch 279/400\n",
      "2787/2787 [==============================] - 39s 14ms/step - loss: 0.0636 - accuracy: 0.9794 - val_loss: 0.3004 - val_accuracy: 0.9367\n",
      "Epoch 280/400\n",
      "2787/2787 [==============================] - 39s 14ms/step - loss: 0.0583 - accuracy: 0.9817 - val_loss: 0.2822 - val_accuracy: 0.9418\n",
      "Epoch 281/400\n",
      "2787/2787 [==============================] - 39s 14ms/step - loss: 0.0576 - accuracy: 0.9815 - val_loss: 0.3437 - val_accuracy: 0.9346\n",
      "Epoch 282/400\n",
      "2787/2787 [==============================] - 39s 14ms/step - loss: 0.0568 - accuracy: 0.9811 - val_loss: 0.3096 - val_accuracy: 0.9382\n",
      "Epoch 283/400\n",
      "2787/2787 [==============================] - 39s 14ms/step - loss: 0.0586 - accuracy: 0.9811 - val_loss: 0.3457 - val_accuracy: 0.9331\n",
      "Epoch 284/400\n",
      "2787/2787 [==============================] - 39s 14ms/step - loss: 0.0594 - accuracy: 0.9805 - val_loss: 0.2937 - val_accuracy: 0.9357\n",
      "Epoch 285/400\n",
      "2787/2787 [==============================] - 39s 14ms/step - loss: 0.0586 - accuracy: 0.9810 - val_loss: 0.3071 - val_accuracy: 0.9313\n",
      "Epoch 286/400\n",
      "2787/2787 [==============================] - 39s 14ms/step - loss: 0.0607 - accuracy: 0.9805 - val_loss: 0.3039 - val_accuracy: 0.9364\n",
      "Epoch 287/400\n",
      "2787/2787 [==============================] - 39s 14ms/step - loss: 0.0568 - accuracy: 0.9820 - val_loss: 0.3097 - val_accuracy: 0.9407\n",
      "Epoch 288/400\n",
      "2787/2787 [==============================] - 39s 14ms/step - loss: 0.0603 - accuracy: 0.9807 - val_loss: 0.3372 - val_accuracy: 0.9353\n",
      "Epoch 289/400\n",
      "2787/2787 [==============================] - 39s 14ms/step - loss: 0.0574 - accuracy: 0.9815 - val_loss: 0.2860 - val_accuracy: 0.9400\n",
      "Epoch 290/400\n",
      "2787/2787 [==============================] - 39s 14ms/step - loss: 0.0653 - accuracy: 0.9780 - val_loss: 0.3316 - val_accuracy: 0.9292\n",
      "Epoch 291/400\n",
      "2787/2787 [==============================] - 39s 14ms/step - loss: 0.0558 - accuracy: 0.9824 - val_loss: 0.3539 - val_accuracy: 0.9252\n",
      "Epoch 292/400\n",
      "2787/2787 [==============================] - 39s 14ms/step - loss: 0.0583 - accuracy: 0.9811 - val_loss: 0.2973 - val_accuracy: 0.9364\n",
      "Epoch 293/400\n",
      "2787/2787 [==============================] - 39s 14ms/step - loss: 0.0580 - accuracy: 0.9825 - val_loss: 0.3267 - val_accuracy: 0.9324\n",
      "Epoch 294/400\n",
      "2787/2787 [==============================] - 39s 14ms/step - loss: 0.0603 - accuracy: 0.9808 - val_loss: 0.2813 - val_accuracy: 0.9407\n",
      "Epoch 295/400\n",
      "2787/2787 [==============================] - 39s 14ms/step - loss: 0.0568 - accuracy: 0.9812 - val_loss: 0.2902 - val_accuracy: 0.9367\n",
      "Epoch 296/400\n",
      "2787/2787 [==============================] - 39s 14ms/step - loss: 0.0573 - accuracy: 0.9829 - val_loss: 0.2719 - val_accuracy: 0.9407\n",
      "Epoch 297/400\n",
      "2787/2787 [==============================] - 39s 14ms/step - loss: 0.0622 - accuracy: 0.9795 - val_loss: 0.2776 - val_accuracy: 0.9378\n",
      "Epoch 298/400\n",
      "2787/2787 [==============================] - 39s 14ms/step - loss: 0.0584 - accuracy: 0.9808 - val_loss: 0.2763 - val_accuracy: 0.9389\n",
      "Epoch 299/400\n",
      "2787/2787 [==============================] - 39s 14ms/step - loss: 0.0548 - accuracy: 0.9816 - val_loss: 0.2843 - val_accuracy: 0.9367\n",
      "Epoch 300/400\n",
      "2787/2787 [==============================] - 39s 14ms/step - loss: 0.0519 - accuracy: 0.9832 - val_loss: 0.3163 - val_accuracy: 0.9335\n",
      "Epoch 301/400\n",
      "2787/2787 [==============================] - 39s 14ms/step - loss: 0.0605 - accuracy: 0.9813 - val_loss: 0.3071 - val_accuracy: 0.9371\n",
      "Epoch 302/400\n",
      "2787/2787 [==============================] - 39s 14ms/step - loss: 0.0600 - accuracy: 0.9806 - val_loss: 0.3093 - val_accuracy: 0.9364\n",
      "Epoch 303/400\n",
      "2787/2787 [==============================] - 39s 14ms/step - loss: 0.0525 - accuracy: 0.9823 - val_loss: 0.3084 - val_accuracy: 0.9389\n",
      "Epoch 304/400\n",
      "2787/2787 [==============================] - 39s 14ms/step - loss: 0.0606 - accuracy: 0.9804 - val_loss: 0.2883 - val_accuracy: 0.9342\n",
      "Epoch 305/400\n",
      "2787/2787 [==============================] - 39s 14ms/step - loss: 0.0564 - accuracy: 0.9817 - val_loss: 0.2835 - val_accuracy: 0.9393\n",
      "Epoch 306/400\n",
      "2787/2787 [==============================] - 39s 14ms/step - loss: 0.0550 - accuracy: 0.9814 - val_loss: 0.3198 - val_accuracy: 0.9292\n",
      "Epoch 307/400\n",
      "2787/2787 [==============================] - 39s 14ms/step - loss: 0.0607 - accuracy: 0.9809 - val_loss: 0.2983 - val_accuracy: 0.9414\n",
      "Epoch 308/400\n",
      "2787/2787 [==============================] - 39s 14ms/step - loss: 0.0544 - accuracy: 0.9825 - val_loss: 0.3017 - val_accuracy: 0.9367\n",
      "Epoch 309/400\n",
      "2787/2787 [==============================] - 39s 14ms/step - loss: 0.0564 - accuracy: 0.9818 - val_loss: 0.2795 - val_accuracy: 0.9396\n",
      "Epoch 310/400\n",
      "2787/2787 [==============================] - 39s 14ms/step - loss: 0.0548 - accuracy: 0.9817 - val_loss: 0.3531 - val_accuracy: 0.9310\n",
      "Epoch 311/400\n",
      "2787/2787 [==============================] - 39s 14ms/step - loss: 0.0600 - accuracy: 0.9804 - val_loss: 0.3120 - val_accuracy: 0.9407\n",
      "Epoch 312/400\n",
      "2787/2787 [==============================] - 39s 14ms/step - loss: 0.0497 - accuracy: 0.9829 - val_loss: 0.3735 - val_accuracy: 0.9274\n",
      "Epoch 313/400\n",
      "2787/2787 [==============================] - 39s 14ms/step - loss: 0.0563 - accuracy: 0.9827 - val_loss: 0.2890 - val_accuracy: 0.9342\n",
      "Epoch 314/400\n",
      "2787/2787 [==============================] - 39s 14ms/step - loss: 0.0577 - accuracy: 0.9814 - val_loss: 0.2997 - val_accuracy: 0.9414\n",
      "Epoch 315/400\n",
      "2787/2787 [==============================] - 39s 14ms/step - loss: 0.0543 - accuracy: 0.9829 - val_loss: 0.3155 - val_accuracy: 0.9324\n",
      "Epoch 316/400\n",
      "2787/2787 [==============================] - 39s 14ms/step - loss: 0.0589 - accuracy: 0.9819 - val_loss: 0.2996 - val_accuracy: 0.9400\n",
      "Epoch 317/400\n",
      "2787/2787 [==============================] - 39s 14ms/step - loss: 0.0593 - accuracy: 0.9803 - val_loss: 0.3114 - val_accuracy: 0.9335\n",
      "Epoch 318/400\n",
      "2787/2787 [==============================] - 39s 14ms/step - loss: 0.0553 - accuracy: 0.9817 - val_loss: 0.3135 - val_accuracy: 0.9393\n",
      "Epoch 319/400\n",
      "2787/2787 [==============================] - 39s 14ms/step - loss: 0.0522 - accuracy: 0.9825 - val_loss: 0.3315 - val_accuracy: 0.9313\n",
      "Epoch 320/400\n",
      "2787/2787 [==============================] - 39s 14ms/step - loss: 0.0587 - accuracy: 0.9815 - val_loss: 0.3666 - val_accuracy: 0.9245\n",
      "Epoch 321/400\n",
      "2787/2787 [==============================] - 39s 14ms/step - loss: 0.0550 - accuracy: 0.9827 - val_loss: 0.3006 - val_accuracy: 0.9375\n",
      "Epoch 322/400\n",
      "2787/2787 [==============================] - 39s 14ms/step - loss: 0.0553 - accuracy: 0.9829 - val_loss: 0.3123 - val_accuracy: 0.9349\n",
      "Epoch 323/400\n",
      "2787/2787 [==============================] - 39s 14ms/step - loss: 0.0576 - accuracy: 0.9809 - val_loss: 0.3044 - val_accuracy: 0.9367\n",
      "Epoch 324/400\n",
      "2787/2787 [==============================] - 39s 14ms/step - loss: 0.0530 - accuracy: 0.9822 - val_loss: 0.3285 - val_accuracy: 0.9357\n",
      "Epoch 325/400\n",
      "2787/2787 [==============================] - 39s 14ms/step - loss: 0.0565 - accuracy: 0.9820 - val_loss: 0.3313 - val_accuracy: 0.9371\n",
      "Epoch 326/400\n",
      "2787/2787 [==============================] - 39s 14ms/step - loss: 0.0511 - accuracy: 0.9837 - val_loss: 0.3512 - val_accuracy: 0.9328\n",
      "Epoch 327/400\n",
      "2787/2787 [==============================] - 39s 14ms/step - loss: 0.0588 - accuracy: 0.9817 - val_loss: 0.2728 - val_accuracy: 0.9446\n",
      "Epoch 328/400\n",
      "2787/2787 [==============================] - 39s 14ms/step - loss: 0.0555 - accuracy: 0.9825 - val_loss: 0.3273 - val_accuracy: 0.9299\n",
      "Epoch 329/400\n",
      "2787/2787 [==============================] - 39s 14ms/step - loss: 0.0513 - accuracy: 0.9823 - val_loss: 0.3210 - val_accuracy: 0.9357\n",
      "Epoch 330/400\n",
      "2787/2787 [==============================] - 39s 14ms/step - loss: 0.0575 - accuracy: 0.9817 - val_loss: 0.3010 - val_accuracy: 0.9375\n",
      "Epoch 331/400\n",
      "2787/2787 [==============================] - 39s 14ms/step - loss: 0.0543 - accuracy: 0.9824 - val_loss: 0.3050 - val_accuracy: 0.9367\n",
      "Epoch 332/400\n",
      "2787/2787 [==============================] - 39s 14ms/step - loss: 0.0564 - accuracy: 0.9820 - val_loss: 0.2739 - val_accuracy: 0.9410\n",
      "Epoch 333/400\n",
      "2787/2787 [==============================] - 39s 14ms/step - loss: 0.0521 - accuracy: 0.9830 - val_loss: 0.3477 - val_accuracy: 0.9299\n",
      "Epoch 334/400\n",
      "2787/2787 [==============================] - 39s 14ms/step - loss: 0.0563 - accuracy: 0.9812 - val_loss: 0.2925 - val_accuracy: 0.9367\n",
      "Epoch 335/400\n",
      "2787/2787 [==============================] - 39s 14ms/step - loss: 0.0497 - accuracy: 0.9830 - val_loss: 0.3007 - val_accuracy: 0.9421\n",
      "Epoch 336/400\n",
      "2787/2787 [==============================] - 39s 14ms/step - loss: 0.0527 - accuracy: 0.9838 - val_loss: 0.3054 - val_accuracy: 0.9410\n",
      "Epoch 337/400\n",
      "2787/2787 [==============================] - 39s 14ms/step - loss: 0.0523 - accuracy: 0.9822 - val_loss: 0.2967 - val_accuracy: 0.9407\n",
      "Epoch 338/400\n",
      "2787/2787 [==============================] - 39s 14ms/step - loss: 0.0534 - accuracy: 0.9827 - val_loss: 0.3092 - val_accuracy: 0.9349\n",
      "Epoch 339/400\n",
      "2787/2787 [==============================] - 39s 14ms/step - loss: 0.0570 - accuracy: 0.9809 - val_loss: 0.3423 - val_accuracy: 0.9324\n",
      "Epoch 340/400\n",
      "2787/2787 [==============================] - 39s 14ms/step - loss: 0.0513 - accuracy: 0.9834 - val_loss: 0.3185 - val_accuracy: 0.9357\n",
      "Epoch 341/400\n",
      "2787/2787 [==============================] - 39s 14ms/step - loss: 0.0580 - accuracy: 0.9815 - val_loss: 0.3133 - val_accuracy: 0.9414\n",
      "Epoch 342/400\n",
      "2787/2787 [==============================] - 39s 14ms/step - loss: 0.0530 - accuracy: 0.9828 - val_loss: 0.3671 - val_accuracy: 0.9270\n",
      "Epoch 343/400\n",
      "2787/2787 [==============================] - 39s 14ms/step - loss: 0.0554 - accuracy: 0.9830 - val_loss: 0.3191 - val_accuracy: 0.9342\n",
      "Epoch 344/400\n",
      "2787/2787 [==============================] - 39s 14ms/step - loss: 0.0520 - accuracy: 0.9846 - val_loss: 0.3297 - val_accuracy: 0.9342\n",
      "Epoch 345/400\n",
      "2787/2787 [==============================] - 39s 14ms/step - loss: 0.0574 - accuracy: 0.9818 - val_loss: 0.2880 - val_accuracy: 0.9403\n",
      "Epoch 346/400\n",
      "2787/2787 [==============================] - 39s 14ms/step - loss: 0.0531 - accuracy: 0.9835 - val_loss: 0.3457 - val_accuracy: 0.9310\n",
      "Epoch 347/400\n",
      "2787/2787 [==============================] - 39s 14ms/step - loss: 0.0569 - accuracy: 0.9822 - val_loss: 0.3136 - val_accuracy: 0.9357\n",
      "Epoch 348/400\n",
      "2787/2787 [==============================] - 39s 14ms/step - loss: 0.0536 - accuracy: 0.9824 - val_loss: 0.3551 - val_accuracy: 0.9303\n",
      "Epoch 349/400\n",
      "2787/2787 [==============================] - 39s 14ms/step - loss: 0.0556 - accuracy: 0.9828 - val_loss: 0.3366 - val_accuracy: 0.9281\n",
      "Epoch 350/400\n",
      "2787/2787 [==============================] - 39s 14ms/step - loss: 0.0574 - accuracy: 0.9810 - val_loss: 0.3537 - val_accuracy: 0.9310\n",
      "Epoch 351/400\n",
      "2787/2787 [==============================] - 39s 14ms/step - loss: 0.0536 - accuracy: 0.9825 - val_loss: 0.3344 - val_accuracy: 0.9331\n",
      "Epoch 352/400\n",
      "2787/2787 [==============================] - 39s 14ms/step - loss: 0.0495 - accuracy: 0.9848 - val_loss: 0.3372 - val_accuracy: 0.9324\n",
      "Epoch 353/400\n",
      "2787/2787 [==============================] - 39s 14ms/step - loss: 0.0528 - accuracy: 0.9822 - val_loss: 0.3152 - val_accuracy: 0.9349\n",
      "Epoch 354/400\n",
      "2787/2787 [==============================] - 39s 14ms/step - loss: 0.0574 - accuracy: 0.9823 - val_loss: 0.3048 - val_accuracy: 0.9360\n",
      "Epoch 355/400\n",
      "2787/2787 [==============================] - 39s 14ms/step - loss: 0.0559 - accuracy: 0.9816 - val_loss: 0.3329 - val_accuracy: 0.9310\n",
      "Epoch 356/400\n",
      "2787/2787 [==============================] - 39s 14ms/step - loss: 0.0575 - accuracy: 0.9819 - val_loss: 0.3117 - val_accuracy: 0.9371\n",
      "Epoch 357/400\n",
      "2787/2787 [==============================] - 39s 14ms/step - loss: 0.0563 - accuracy: 0.9824 - val_loss: 0.3039 - val_accuracy: 0.9421\n",
      "Epoch 358/400\n",
      "2787/2787 [==============================] - 39s 14ms/step - loss: 0.0498 - accuracy: 0.9834 - val_loss: 0.3026 - val_accuracy: 0.9371\n",
      "Epoch 359/400\n",
      "2787/2787 [==============================] - 39s 14ms/step - loss: 0.0559 - accuracy: 0.9818 - val_loss: 0.3107 - val_accuracy: 0.9385\n",
      "Epoch 360/400\n",
      "2787/2787 [==============================] - 39s 14ms/step - loss: 0.0526 - accuracy: 0.9824 - val_loss: 0.2935 - val_accuracy: 0.9421\n",
      "Epoch 361/400\n",
      "2787/2787 [==============================] - 39s 14ms/step - loss: 0.0536 - accuracy: 0.9839 - val_loss: 0.3023 - val_accuracy: 0.9371\n",
      "Epoch 362/400\n",
      "2787/2787 [==============================] - 39s 14ms/step - loss: 0.0524 - accuracy: 0.9838 - val_loss: 0.3361 - val_accuracy: 0.9303\n",
      "Epoch 363/400\n",
      "2787/2787 [==============================] - 39s 14ms/step - loss: 0.0525 - accuracy: 0.9832 - val_loss: 0.3345 - val_accuracy: 0.9328\n",
      "Epoch 364/400\n",
      "2787/2787 [==============================] - 39s 14ms/step - loss: 0.0553 - accuracy: 0.9819 - val_loss: 0.3078 - val_accuracy: 0.9367\n",
      "Epoch 365/400\n",
      "2787/2787 [==============================] - 39s 14ms/step - loss: 0.0560 - accuracy: 0.9817 - val_loss: 0.2880 - val_accuracy: 0.9439\n",
      "Epoch 366/400\n",
      "2787/2787 [==============================] - 39s 14ms/step - loss: 0.0515 - accuracy: 0.9827 - val_loss: 0.3067 - val_accuracy: 0.9382\n",
      "Epoch 367/400\n",
      "2787/2787 [==============================] - 39s 14ms/step - loss: 0.0570 - accuracy: 0.9834 - val_loss: 0.2949 - val_accuracy: 0.9310\n",
      "Epoch 368/400\n",
      "2787/2787 [==============================] - 39s 14ms/step - loss: 0.0575 - accuracy: 0.9815 - val_loss: 0.2747 - val_accuracy: 0.9407\n",
      "Epoch 369/400\n",
      "2787/2787 [==============================] - 39s 14ms/step - loss: 0.0540 - accuracy: 0.9827 - val_loss: 0.3113 - val_accuracy: 0.9367\n",
      "Epoch 370/400\n",
      "2787/2787 [==============================] - 39s 14ms/step - loss: 0.0529 - accuracy: 0.9838 - val_loss: 0.3087 - val_accuracy: 0.9396\n",
      "Epoch 371/400\n",
      "2787/2787 [==============================] - 39s 14ms/step - loss: 0.0593 - accuracy: 0.9826 - val_loss: 0.3033 - val_accuracy: 0.9393\n",
      "Epoch 372/400\n",
      "2787/2787 [==============================] - 39s 14ms/step - loss: 0.0488 - accuracy: 0.9843 - val_loss: 0.3064 - val_accuracy: 0.9335\n",
      "Epoch 373/400\n",
      "2787/2787 [==============================] - 39s 14ms/step - loss: 0.0489 - accuracy: 0.9839 - val_loss: 0.2998 - val_accuracy: 0.9364\n",
      "Epoch 374/400\n",
      "2787/2787 [==============================] - 39s 14ms/step - loss: 0.0591 - accuracy: 0.9820 - val_loss: 0.3174 - val_accuracy: 0.9335\n",
      "Epoch 375/400\n",
      "2787/2787 [==============================] - 39s 14ms/step - loss: 0.0498 - accuracy: 0.9846 - val_loss: 0.3086 - val_accuracy: 0.9367\n",
      "Epoch 376/400\n",
      "2787/2787 [==============================] - 39s 14ms/step - loss: 0.0546 - accuracy: 0.9834 - val_loss: 0.2803 - val_accuracy: 0.9385\n",
      "Epoch 377/400\n",
      "2787/2787 [==============================] - 39s 14ms/step - loss: 0.0498 - accuracy: 0.9837 - val_loss: 0.3119 - val_accuracy: 0.9382\n",
      "Epoch 378/400\n",
      "2787/2787 [==============================] - 39s 14ms/step - loss: 0.0481 - accuracy: 0.9846 - val_loss: 0.3395 - val_accuracy: 0.9349\n",
      "Epoch 379/400\n",
      "2787/2787 [==============================] - 39s 14ms/step - loss: 0.0537 - accuracy: 0.9835 - val_loss: 0.3286 - val_accuracy: 0.9353\n",
      "Epoch 380/400\n",
      "2787/2787 [==============================] - 39s 14ms/step - loss: 0.0515 - accuracy: 0.9835 - val_loss: 0.3438 - val_accuracy: 0.9367\n",
      "Epoch 381/400\n",
      "2787/2787 [==============================] - 39s 14ms/step - loss: 0.0508 - accuracy: 0.9835 - val_loss: 0.3146 - val_accuracy: 0.9382\n",
      "Epoch 382/400\n",
      "2787/2787 [==============================] - 39s 14ms/step - loss: 0.0554 - accuracy: 0.9830 - val_loss: 0.3234 - val_accuracy: 0.9375\n",
      "Epoch 383/400\n",
      "2787/2787 [==============================] - 39s 14ms/step - loss: 0.0538 - accuracy: 0.9832 - val_loss: 0.3070 - val_accuracy: 0.9375\n",
      "Epoch 384/400\n",
      "2787/2787 [==============================] - 39s 14ms/step - loss: 0.0499 - accuracy: 0.9845 - val_loss: 0.3228 - val_accuracy: 0.9385\n",
      "Epoch 385/400\n",
      "2787/2787 [==============================] - 39s 14ms/step - loss: 0.0556 - accuracy: 0.9828 - val_loss: 0.3023 - val_accuracy: 0.9371\n",
      "Epoch 386/400\n",
      "2787/2787 [==============================] - 39s 14ms/step - loss: 0.0535 - accuracy: 0.9824 - val_loss: 0.3263 - val_accuracy: 0.9324\n",
      "Epoch 387/400\n",
      "2787/2787 [==============================] - 39s 14ms/step - loss: 0.0540 - accuracy: 0.9830 - val_loss: 0.3172 - val_accuracy: 0.9375\n",
      "Epoch 388/400\n",
      "2787/2787 [==============================] - 39s 14ms/step - loss: 0.0530 - accuracy: 0.9834 - val_loss: 0.3098 - val_accuracy: 0.9396\n",
      "Epoch 389/400\n",
      "2787/2787 [==============================] - 39s 14ms/step - loss: 0.0504 - accuracy: 0.9842 - val_loss: 0.3094 - val_accuracy: 0.9346\n",
      "Epoch 390/400\n",
      "2787/2787 [==============================] - 39s 14ms/step - loss: 0.0521 - accuracy: 0.9830 - val_loss: 0.3513 - val_accuracy: 0.9353\n",
      "Epoch 391/400\n",
      "2787/2787 [==============================] - 39s 14ms/step - loss: 0.0501 - accuracy: 0.9840 - val_loss: 0.3175 - val_accuracy: 0.9382\n",
      "Epoch 392/400\n",
      "2787/2787 [==============================] - 39s 14ms/step - loss: 0.0535 - accuracy: 0.9830 - val_loss: 0.3196 - val_accuracy: 0.9378\n",
      "Epoch 393/400\n",
      "2787/2787 [==============================] - 39s 14ms/step - loss: 0.0511 - accuracy: 0.9837 - val_loss: 0.3295 - val_accuracy: 0.9357\n",
      "Epoch 394/400\n",
      "2787/2787 [==============================] - 39s 14ms/step - loss: 0.0514 - accuracy: 0.9839 - val_loss: 0.3507 - val_accuracy: 0.9353\n",
      "Epoch 395/400\n",
      "2787/2787 [==============================] - 39s 14ms/step - loss: 0.0529 - accuracy: 0.9831 - val_loss: 0.3225 - val_accuracy: 0.9414\n",
      "Epoch 396/400\n",
      "2787/2787 [==============================] - 39s 14ms/step - loss: 0.0513 - accuracy: 0.9835 - val_loss: 0.3268 - val_accuracy: 0.9364\n",
      "Epoch 397/400\n",
      "2787/2787 [==============================] - 39s 14ms/step - loss: 0.0546 - accuracy: 0.9840 - val_loss: 0.3028 - val_accuracy: 0.9418\n",
      "Epoch 398/400\n",
      "2787/2787 [==============================] - 39s 14ms/step - loss: 0.0519 - accuracy: 0.9827 - val_loss: 0.3186 - val_accuracy: 0.9321\n",
      "Epoch 399/400\n",
      "2787/2787 [==============================] - 39s 14ms/step - loss: 0.0501 - accuracy: 0.9845 - val_loss: 0.3610 - val_accuracy: 0.9346\n",
      "Epoch 400/400\n",
      "2787/2787 [==============================] - 39s 14ms/step - loss: 0.0540 - accuracy: 0.9831 - val_loss: 0.3022 - val_accuracy: 0.9396\n"
     ]
    }
   ],
   "source": [
    "checkpoint = [# EarlyStopping(monitor='val_accuracy', patience=20, mode='auto'), \n",
    "                  ModelCheckpoint(filepath='best_model_cnn_6sec_.h5', monitor='val_accuracy', save_best_only=True)]\n",
    "\n",
    "np.random.seed(5)\n",
    "history = model.fit(train_images,\n",
    "                    train_y,\n",
    "                    epochs=400,\n",
    "                    batch_size=8, callbacks=checkpoint,\n",
    "                    validation_data=(val_images, val_y) )"
   ]
  },
  {
   "cell_type": "code",
   "execution_count": null,
   "id": "91adae0a",
   "metadata": {
    "colab": {
     "base_uri": "https://localhost:8080/"
    },
    "executionInfo": {
     "elapsed": 3673,
     "status": "ok",
     "timestamp": 1654252097254,
     "user": {
      "displayName": "Dima Фиш",
      "userId": "06406005900087245430"
     },
     "user_tz": 240
    },
    "id": "91adae0a",
    "outputId": "034fde6c-5a55-4558-a94d-75b4f675621c"
   },
   "outputs": [
    {
     "name": "stdout",
     "output_type": "stream",
     "text": [
      "Testing Accuracy:  0.932785153388977\n",
      "Testing Cross Entropy: 0.33\n",
      "Val Accuracy:  0.9396117925643921\n",
      "Val Cross Entropy: 0.30\n"
     ]
    }
   ],
   "source": [
    "score_test = model.evaluate(test_images, test_y, verbose=0)\n",
    "print(\"Testing Accuracy: \", score_test[1])\n",
    "print(\"Testing Cross Entropy: %.2f\" % score_test[0])\n",
    "\n",
    "score_val = model.evaluate(val_images, val_y, verbose=0)\n",
    "print(\"Val Accuracy: \", score_val[1])\n",
    "print(\"Val Cross Entropy: %.2f\" % score_val[0])"
   ]
  },
  {
   "cell_type": "code",
   "execution_count": null,
   "id": "3b5dd9fe",
   "metadata": {
    "colab": {
     "base_uri": "https://localhost:8080/",
     "height": 573
    },
    "executionInfo": {
     "elapsed": 700,
     "status": "ok",
     "timestamp": 1654252104018,
     "user": {
      "displayName": "Dima Фиш",
      "userId": "06406005900087245430"
     },
     "user_tz": 240
    },
    "id": "3b5dd9fe",
    "outputId": "202588dc-bace-49bf-fec2-3c1d962a25da"
   },
   "outputs": [
    {
     "data": {
      "image/png": "[encoded data removed]",
      "text/plain": [
       "<Figure size 432x288 with 1 Axes>"
      ]
     },
     "metadata": {
      "needs_background": "light"
     },
     "output_type": "display_data"
    },
    {
     "data": {
      "image/png": "[encoded data removed]",
      "text/plain": [
       "<Figure size 432x288 with 1 Axes>"
      ]
     },
     "metadata": {
      "needs_background": "light"
     },
     "output_type": "display_data"
    }
   ],
   "source": [
    "visualize_training_results(history)"
   ]
  },
  {
   "cell_type": "code",
   "execution_count": null,
   "id": "3dee951d",
   "metadata": {
    "id": "3dee951d"
   },
   "outputs": [],
   "source": [
    "#model.save('../../models/CNN_best_model_5sec(94).h5')"
   ]
  },
  {
   "cell_type": "code",
   "execution_count": 11,
   "id": "9v6q82EUq6K4",
   "metadata": {
    "id": "9v6q82EUq6K4"
   },
   "outputs": [],
   "source": [
    "best_model = keras.models.load_model('../../models/CNN_best_model_5sec(94).h5')"
   ]
  },
  {
   "cell_type": "code",
   "execution_count": 18,
   "id": "JKsySoWQs0Pd",
   "metadata": {
    "colab": {
     "base_uri": "https://localhost:8080/"
    },
    "executionInfo": {
     "elapsed": 3519,
     "status": "ok",
     "timestamp": 1654252127863,
     "user": {
      "displayName": "Dima Фиш",
      "userId": "06406005900087245430"
     },
     "user_tz": 240
    },
    "id": "JKsySoWQs0Pd",
    "outputId": "95a8c2f1-e17d-4695-f407-c317236babf2"
   },
   "outputs": [
    {
     "name": "stdout",
     "output_type": "stream",
     "text": [
      "Testing Accuracy:  0.9420807957649231\n",
      "Testing Cross Entropy: 0.32\n",
      "Val Accuracy:  0.9446441531181335\n",
      "Val Cross Entropy: 0.27\n"
     ]
    }
   ],
   "source": [
    "score_test = best_model.evaluate(test_images, test_y, verbose=0)\n",
    "print(\"Testing Accuracy: \", score_test[1])\n",
    "print(\"Testing Cross Entropy: %.2f\" % score_test[0])\n",
    "\n",
    "score_val = best_model.evaluate(val_images, val_y, verbose=0)\n",
    "print(\"Val Accuracy: \", score_val[1])\n",
    "print(\"Val Cross Entropy: %.2f\" % score_val[0])"
   ]
  },
  {
   "cell_type": "code",
   "execution_count": 19,
   "id": "0kC8kNZ3SHlO",
   "metadata": {
    "id": "0kC8kNZ3SHlO"
   },
   "outputs": [],
   "source": [
    "y_pred=best_model.predict(test_images)\n",
    "y_pred=np.argmax(y_pred, axis=1).reshape(-1,1)"
   ]
  },
  {
   "cell_type": "code",
   "execution_count": 20,
   "id": "gSYN0m6QuGHR",
   "metadata": {
    "colab": {
     "base_uri": "https://localhost:8080/"
    },
    "executionInfo": {
     "elapsed": 120,
     "status": "ok",
     "timestamp": 1654224441018,
     "user": {
      "displayName": "Dima Фиш",
      "userId": "06406005900087245430"
     },
     "user_tz": 240
    },
    "id": "gSYN0m6QuGHR",
    "outputId": "35898bba-0fdc-4ec4-897d-6da0ccf2b682"
   },
   "outputs": [
    {
     "name": "stdout",
     "output_type": "stream",
     "text": [
      "              precision    recall  f1-score   support\n",
      "\n",
      "           0       0.97      0.89      0.93       188\n",
      "           1       0.93      0.98      0.96       257\n",
      "           2       0.99      0.95      0.97       221\n",
      "           3       0.98      1.00      0.99       210\n",
      "           4       0.95      0.95      0.95       123\n",
      "           5       0.95      0.99      0.97       219\n",
      "           6       0.94      0.91      0.93       237\n",
      "           7       0.91      0.98      0.94       162\n",
      "           8       0.91      0.92      0.92       186\n",
      "           9       0.88      0.94      0.91       138\n",
      "          10       0.95      0.90      0.92       222\n",
      "          11       0.93      0.88      0.90       171\n",
      "          12       0.92      0.94      0.93       236\n",
      "          13       0.96      0.95      0.95       227\n",
      "\n",
      "    accuracy                           0.94      2797\n",
      "   macro avg       0.94      0.94      0.94      2797\n",
      "weighted avg       0.94      0.94      0.94      2797\n",
      "\n"
     ]
    }
   ],
   "source": [
    "\n",
    "print(classification_report(test_y, y_pred))"
   ]
  },
  {
   "cell_type": "code",
   "execution_count": 23,
   "id": "EXmfX03uAMnR",
   "metadata": {
    "colab": {
     "base_uri": "https://localhost:8080/",
     "height": 808
    },
    "executionInfo": {
     "elapsed": 1620,
     "status": "ok",
     "timestamp": 1654224475127,
     "user": {
      "displayName": "Dima Фиш",
      "userId": "06406005900087245430"
     },
     "user_tz": 240
    },
    "id": "EXmfX03uAMnR",
    "outputId": "631520a5-cb0b-4b48-de13-99c2d13eddae"
   },
   "outputs": [
    {
     "data": {
      "image/png": "[encoded data removed]",
      "text/plain": [
       "<Figure size 1008x1008 with 2 Axes>"
      ]
     },
     "metadata": {
      "needs_background": "light"
     },
     "output_type": "display_data"
    }
   ],
   "source": [
    "# Loading a LabelEncoder transformer to get labels for classes\n",
    "\n",
    "import joblib    \n",
    "with open('../../models/NN_transformers_6sec_14genres_new.joblib', 'rb') as f:\n",
    "      encoder,scaler = joblib.load(f)\n",
    "\n",
    "fig, ax = plt.subplots(figsize=(14,14))\n",
    "ConfusionMatrixDisplay.from_predictions(test_y, y_pred, ax=ax, normalize='true', display_labels=encoder.classes_);\n",
    "plt.xticks(rotation=45);"
   ]
  },
  {
   "cell_type": "code",
   "execution_count": null,
   "id": "825449af",
   "metadata": {},
   "outputs": [],
   "source": []
  }
 ],
 "metadata": {
  "accelerator": "GPU",
  "colab": {
   "collapsed_sections": [],
   "machine_shape": "hm",
   "name": "CNN.ipynb",
   "provenance": []
  },
  "kernelspec": {
   "display_name": "Python 3 (ipykernel)",
   "language": "python",
   "name": "python3"
  },
  "language_info": {
   "codemirror_mode": {
    "name": "ipython",
    "version": 3
   },
   "file_extension": ".py",
   "mimetype": "text/x-python",
   "name": "python",
   "nbconvert_exporter": "python",
   "pygments_lexer": "ipython3",
   "version": "3.9.7"
  }
 },
 "nbformat": 4,
 "nbformat_minor": 5
}
