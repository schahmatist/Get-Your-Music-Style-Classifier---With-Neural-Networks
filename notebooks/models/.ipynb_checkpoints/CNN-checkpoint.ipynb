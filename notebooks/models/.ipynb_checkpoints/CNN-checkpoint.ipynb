{
 "cells": [
  {
   "cell_type": "markdown",
   "id": "f9c5eb38",
   "metadata": {},
   "source": [
    "# CNN model"
   ]
  },
  {
   "cell_type": "markdown",
   "id": "d33bfaea",
   "metadata": {
    "id": "d33bfaea"
   },
   "source": [
    "### Loading Libraries"
   ]
  },
  {
   "cell_type": "code",
   "execution_count": 1,
   "id": "_JnTYymgApTI",
   "metadata": {
    "colab": {
     "base_uri": "https://localhost:8080/"
    },
    "executionInfo": {
     "elapsed": 281,
     "status": "ok",
     "timestamp": 1654235172472,
     "user": {
      "displayName": "Dima Фиш",
      "userId": "06406005900087245430"
     },
     "user_tz": 240
    },
    "id": "_JnTYymgApTI",
    "outputId": "46bcde80-78d9-412f-a380-2592ea0db941"
   },
   "outputs": [],
   "source": [
    "# gpu_info = !nvidia-smi\n",
    "# gpu_info = '\\n'.join(gpu_info)\n",
    "# if gpu_info.find('failed') >= 0:\n",
    "#   print('Not connected to a GPU')\n",
    "# else:\n",
    "#   print(gpu_info)"
   ]
  },
  {
   "cell_type": "code",
   "execution_count": 2,
   "id": "bqEuf5xoe3nM",
   "metadata": {
    "colab": {
     "base_uri": "https://localhost:8080/"
    },
    "executionInfo": {
     "elapsed": 28367,
     "status": "ok",
     "timestamp": 1654235202084,
     "user": {
      "displayName": "Dima Фиш",
      "userId": "06406005900087245430"
     },
     "user_tz": 240
    },
    "id": "bqEuf5xoe3nM",
    "outputId": "46323285-fd5b-48c3-ae74-0435da5a4fc7"
   },
   "outputs": [],
   "source": [
    "# from google.colab import drive\n",
    "# drive.mount('/content/gdrive')\n",
    "# %cd gdrive/MyDrive/Audio/"
   ]
  },
  {
   "cell_type": "code",
   "execution_count": 3,
   "id": "4f4b4ed5",
   "metadata": {
    "id": "4f4b4ed5"
   },
   "outputs": [],
   "source": [
    "import pandas as pd\n",
    "import numpy as np\n",
    "\n",
    "import matplotlib.pyplot as plt\n",
    "%matplotlib inline\n",
    "import random\n",
    "\n",
    "import os\n",
    "from PIL import Image\n",
    "import csv\n",
    "\n",
    "#Keras\n",
    "import keras\n",
    "import warnings\n",
    "warnings.filterwarnings('ignore')\n",
    "from keras import layers\n",
    "from keras.layers import Activation, Dense, Dropout, Conv2D, Flatten, MaxPooling2D, GlobalMaxPooling2D, GlobalAveragePooling1D, AveragePooling2D, Input, Add\n",
    "from keras import models\n",
    "from keras.models import Sequential\n",
    "from keras import optimizers \n",
    "from tensorflow.keras.optimizers import Adam\n",
    "from keras.layers import BatchNormalization\n",
    "from keras import regularizers\n",
    "\n",
    "from keras.preprocessing.image import ImageDataGenerator, array_to_img, img_to_array, load_img\n",
    "from keras.callbacks import EarlyStopping, ModelCheckpoint\n",
    "\n",
    "from sklearn.metrics import  classification_report, ConfusionMatrixDisplay\n"
   ]
  },
  {
   "cell_type": "markdown",
   "id": "RLh7sC89BHPf",
   "metadata": {
    "id": "RLh7sC89BHPf"
   },
   "source": [
    "#### Function to visualize"
   ]
  },
  {
   "cell_type": "code",
   "execution_count": 27,
   "id": "14f6d9d2",
   "metadata": {
    "id": "14f6d9d2"
   },
   "outputs": [],
   "source": [
    "def visualize_training_results(results):\n",
    "    history = results.history\n",
    "    plt.figure()\n",
    "    plt.plot(history['val_loss'])\n",
    "    plt.plot(history['loss'])\n",
    "    plt.legend(['val_loss', 'loss'])\n",
    "    plt.title('Loss')\n",
    "    plt.xlabel('Epochs')\n",
    "    plt.ylabel('Loss')\n",
    "    plt.show()\n",
    "    \n",
    "    plt.figure()\n",
    "    plt.plot(history['val_accuracy'])\n",
    "    plt.plot(history['accuracy'])\n",
    "    plt.legend(['val_acc', 'acc'])\n",
    "    plt.title('Accuracy')\n",
    "    plt.xlabel('Epochs')\n",
    "    plt.ylabel('Accuracy')\n",
    "    plt.show()"
   ]
  },
  {
   "cell_type": "markdown",
   "id": "MjCUtSuilPsR",
   "metadata": {
    "id": "MjCUtSuilPsR"
   },
   "source": [
    "#"
   ]
  },
  {
   "cell_type": "markdown",
   "id": "58dd6c12",
   "metadata": {
    "id": "58dd6c12"
   },
   "source": [
    "### Loading train/val/test sets\n",
    "\n",
    "* I will upload dataset shortly. Meanwhile in order to evaluate the performance, you can use models in models directory"
   ]
  },
  {
   "cell_type": "code",
   "execution_count": 28,
   "id": "487bc9d6",
   "metadata": {
    "id": "487bc9d6"
   },
   "outputs": [],
   "source": [
    "# image_dir='../../image_data/set-8-1-1'\n",
    "\n",
    "# train_dir = image_dir+\"/train/\"\n",
    "# train_datagen = ImageDataGenerator(rescale=1./255)\n",
    "# train_generator = train_datagen.flow_from_directory(train_dir,target_size=(100,100),\n",
    "#                                                     color_mode=\"rgba\",class_mode='categorical',batch_size=18580)\n",
    "\n",
    "# val_dir = image_dir+\"/val/\"\n",
    "# val_datagen = ImageDataGenerator(rescale=1./255)\n",
    "# val_generator = val_datagen.flow_from_directory(val_dir,target_size=(100,100),\n",
    "#                                                 color_mode='rgba',class_mode='categorical',batch_size= 2319)\n",
    "\n",
    "# test_dir = image_dir+\"/test/\"\n",
    "# test_datagen = ImageDataGenerator(rescale=1./255)\n",
    "# test_generator = test_datagen.flow_from_directory(test_dir, target_size=(100,100),\n",
    "#                                                   color_mode='rgba',class_mode='categorical',batch_size= 2326)"
   ]
  },
  {
   "cell_type": "code",
   "execution_count": 29,
   "id": "be6f4118",
   "metadata": {
    "id": "be6f4118"
   },
   "outputs": [],
   "source": [
    "# train_images, train_labels = next(train_generator)\n",
    "# test_images, test_labels = next(test_generator)\n",
    "# val_images, val_labels = next(val_generator)"
   ]
  },
  {
   "cell_type": "code",
   "execution_count": 30,
   "id": "9e5fgaeXpmG-",
   "metadata": {
    "id": "9e5fgaeXpmG-"
   },
   "outputs": [],
   "source": [
    "import pickle\n",
    "file_name = \"../../data_images/set_2x2-8-1-1_5sec.pkl\"\n",
    "with open(file_name, \"rb\") as f:\n",
    "      saved_images=pickle.load(f)\n"
   ]
  },
  {
   "cell_type": "markdown",
   "id": "43982f66",
   "metadata": {
    "id": "43982f66"
   },
   "source": [
    "### Reshaping Data"
   ]
  },
  {
   "cell_type": "code",
   "execution_count": 31,
   "id": "jOdfUVhip9oe",
   "metadata": {
    "colab": {
     "base_uri": "https://localhost:8080/"
    },
    "executionInfo": {
     "elapsed": 559,
     "status": "ok",
     "timestamp": 1654235259749,
     "user": {
      "displayName": "Dima Фиш",
      "userId": "06406005900087245430"
     },
     "user_tz": 240
    },
    "id": "jOdfUVhip9oe",
    "outputId": "a46a4111-2b8c-47e5-8635-9868b07c7749"
   },
   "outputs": [
    {
     "name": "stdout",
     "output_type": "stream",
     "text": [
      "(22291, 14)\n",
      "(22291, 100, 100, 4)\n"
     ]
    }
   ],
   "source": [
    "train_images, train_labels = saved_images[0]\n",
    "test_images, test_labels = saved_images[1]\n",
    "val_images, val_labels = saved_images[2]\n",
    "\n",
    "print(train_labels.shape)\n",
    "print(train_images.shape)"
   ]
  },
  {
   "cell_type": "code",
   "execution_count": 32,
   "id": "a2d7736f",
   "metadata": {
    "colab": {
     "base_uri": "https://localhost:8080/"
    },
    "executionInfo": {
     "elapsed": 3,
     "status": "ok",
     "timestamp": 1654235260764,
     "user": {
      "displayName": "Dima Фиш",
      "userId": "06406005900087245430"
     },
     "user_tz": 240
    },
    "id": "a2d7736f",
    "outputId": "243b1a64-ea42-44b3-a6b9-553351a8911b"
   },
   "outputs": [
    {
     "name": "stdout",
     "output_type": "stream",
     "text": [
      "(22291, 40000)\n",
      "(2797, 40000)\n",
      "(2782, 40000)\n"
     ]
    }
   ],
   "source": [
    "train_img = train_images.reshape(train_images.shape[0], -1)\n",
    "test_img = test_images.reshape(test_images.shape[0], -1)\n",
    "val_img = val_images.reshape(val_images.shape[0], -1)\n",
    "\n",
    "print(train_img.shape)\n",
    "print(test_img.shape)\n",
    "print(val_img.shape)"
   ]
  },
  {
   "cell_type": "markdown",
   "id": "60f8e8ec",
   "metadata": {
    "id": "60f8e8ec"
   },
   "source": [
    "### Reshaping y data"
   ]
  },
  {
   "cell_type": "code",
   "execution_count": 11,
   "id": "92c35765",
   "metadata": {
    "colab": {
     "base_uri": "https://localhost:8080/"
    },
    "executionInfo": {
     "elapsed": 210,
     "status": "ok",
     "timestamp": 1654235262589,
     "user": {
      "displayName": "Dima Фиш",
      "userId": "06406005900087245430"
     },
     "user_tz": 240
    },
    "id": "92c35765",
    "outputId": "220fff4e-6a69-4da3-86e9-2b3e281e1838"
   },
   "outputs": [
    {
     "name": "stdout",
     "output_type": "stream",
     "text": [
      "(22291, 1)\n",
      "(2797, 1)\n",
      "(2782, 1)\n"
     ]
    }
   ],
   "source": [
    "train_y=np.array([np.argmax(i) for i in train_labels]).reshape(train_images.shape[0], -1)\n",
    "test_y=np.array([np.argmax(i) for i in test_labels]).reshape(test_images.shape[0], -1)\n",
    "val_y=np.array([np.argmax(i) for i in val_labels]).reshape(val_images.shape[0], -1)\n",
    "\n",
    "\n",
    "print(train_y.shape)\n",
    "print(test_y.shape)\n",
    "print(val_y.shape)\n",
    "\n"
   ]
  },
  {
   "cell_type": "markdown",
   "id": "16ab5a4f",
   "metadata": {
    "id": "16ab5a4f"
   },
   "source": [
    "## Checking the shapes of train, val and test data"
   ]
  },
  {
   "cell_type": "code",
   "execution_count": 12,
   "id": "b12b300b",
   "metadata": {
    "colab": {
     "base_uri": "https://localhost:8080/"
    },
    "executionInfo": {
     "elapsed": 212,
     "status": "ok",
     "timestamp": 1654235265411,
     "user": {
      "displayName": "Dima Фиш",
      "userId": "06406005900087245430"
     },
     "user_tz": 240
    },
    "id": "b12b300b",
    "outputId": "8035938b-0d7d-4aab-9be0-eb2a4fb791d5"
   },
   "outputs": [
    {
     "name": "stdout",
     "output_type": "stream",
     "text": [
      "Number of training samples: 22291\n",
      "Number of testing samples: 2797\n",
      "Number of validation samples: 2782\n",
      "train_images shape: (22291, 100, 100, 4)\n",
      "train_labels shape: (22291, 14)\n",
      "test_images shape: (2797, 100, 100, 4)\n",
      "test_labels shape: (2797, 14)\n",
      "val_images shape: (2782, 100, 100, 4)\n",
      "val_labels shape: (2782, 14)\n"
     ]
    }
   ],
   "source": [
    "print (\"Number of training samples: \" + str(train_img.shape[0]))\n",
    "print (\"Number of testing samples: \" + str(test_img.shape[0]))\n",
    "print (\"Number of validation samples: \" + str(val_img.shape[0]))\n",
    "print (\"train_images shape: \" + str(train_images.shape))\n",
    "print (\"train_labels shape: \" + str(train_labels.shape))\n",
    "print (\"test_images shape: \" + str(test_images.shape))\n",
    "print (\"test_labels shape: \" + str(test_labels.shape))\n",
    "print (\"val_images shape: \" + str(val_images.shape))\n",
    "print (\"val_labels shape: \" + str(val_labels.shape))"
   ]
  },
  {
   "cell_type": "code",
   "execution_count": 13,
   "id": "07e27402",
   "metadata": {
    "colab": {
     "base_uri": "https://localhost:8080/"
    },
    "executionInfo": {
     "elapsed": 4,
     "status": "ok",
     "timestamp": 1654235266353,
     "user": {
      "displayName": "Dima Фиш",
      "userId": "06406005900087245430"
     },
     "user_tz": 240
    },
    "id": "07e27402",
    "outputId": "f48856e9-420c-4f1a-950c-3ace423cf797"
   },
   "outputs": [
    {
     "data": {
      "text/plain": [
       "(100, 100, 4)"
      ]
     },
     "execution_count": 13,
     "metadata": {},
     "output_type": "execute_result"
    }
   ],
   "source": [
    "train_images.shape[1:]"
   ]
  },
  {
   "cell_type": "markdown",
   "id": "ddac5c0e",
   "metadata": {
    "id": "ddac5c0e"
   },
   "source": [
    "## Building a Network"
   ]
  },
  {
   "cell_type": "code",
   "execution_count": 14,
   "id": "08a60dde",
   "metadata": {
    "id": "08a60dde"
   },
   "outputs": [],
   "source": [
    "model = models.Sequential()\n",
    "model.add(layers.Conv2D(256, (3, 3), activation='relu',\n",
    "                        input_shape=(train_images.shape[1:])))\n",
    "model.add(BatchNormalization())\n",
    "model.add(layers.MaxPooling2D((3, 3)))\n",
    "model.add(layers.Dropout(0.35))\n",
    "\n",
    "\n",
    "model.add(layers.Conv2D(40, (3, 3), activation='relu'))\n",
    "model.add(BatchNormalization())\n",
    "model.add(layers.MaxPooling2D((2, 2)))\n",
    "model.add(layers.Dropout(0.3))\n",
    "\n",
    "model.add(layers.Conv2D(40, (3, 3), activation='relu'))\n",
    "model.add(BatchNormalization())\n",
    "model.add(layers.MaxPooling2D((2, 2)))\n",
    "model.add(layers.Dropout(0.3))\n",
    "\n",
    "model.add(layers.Flatten())\n",
    "model.add(layers.Dense(64, activation='relu'))\n",
    "\n",
    "model.add(layers.Dense(14, activation='softmax'))\n",
    "\n",
    "model.compile(loss='sparse_categorical_crossentropy',\n",
    "#              optimizer=Adam(lr=0.0005),\n",
    "              optimizer='adam',\n",
    "              metrics=['accuracy'])\n",
    "\n",
    "#optimizer=Adam(lr=0.001, beta_1=0.9, beta_2=0.999, epsilon=1e-08, decay=0.0),\n"
   ]
  },
  {
   "cell_type": "markdown",
   "id": "7cb1c8f8",
   "metadata": {},
   "source": [
    "## Training\n",
    "\n",
    "#### (commented, as it takes hours to train)"
   ]
  },
  {
   "cell_type": "code",
   "execution_count": 15,
   "id": "03db4fba",
   "metadata": {
    "colab": {
     "base_uri": "https://localhost:8080/"
    },
    "executionInfo": {
     "elapsed": 8933926,
     "status": "ok",
     "timestamp": 1654250848312,
     "user": {
      "displayName": "Dima Фиш",
      "userId": "06406005900087245430"
     },
     "user_tz": 240
    },
    "id": "03db4fba",
    "outputId": "06ac235b-82b1-4a92-82e8-8b39d955eb44"
   },
   "outputs": [],
   "source": [
    "# checkpoint = [# EarlyStopping(monitor='val_accuracy', patience=20, mode='auto'), \n",
    "#                   ModelCheckpoint(filepath='best_model_cnn_6sec_.h5', monitor='val_accuracy', save_best_only=True)]\n",
    "\n",
    "# np.random.seed(5)\n",
    "\n",
    "# ### takes 5-6 hours with GPU \n",
    "\n",
    "# history = model.fit(train_images,\n",
    "#                      train_y,\n",
    "#                      epochs=400,\n",
    "#                      batch_size=8, callbacks=checkpoint,\n",
    "#                      validation_data=(val_images, val_y) )"
   ]
  },
  {
   "cell_type": "code",
   "execution_count": 17,
   "id": "91adae0a",
   "metadata": {
    "colab": {
     "base_uri": "https://localhost:8080/"
    },
    "executionInfo": {
     "elapsed": 3673,
     "status": "ok",
     "timestamp": 1654252097254,
     "user": {
      "displayName": "Dima Фиш",
      "userId": "06406005900087245430"
     },
     "user_tz": 240
    },
    "id": "91adae0a",
    "outputId": "034fde6c-5a55-4558-a94d-75b4f675621c"
   },
   "outputs": [],
   "source": [
    "# score_test = model.evaluate(test_images, test_y, verbose=0)\n",
    "# print(\"Testing Accuracy: \", score_test[1])\n",
    "# print(\"Testing Cross Entropy: %.2f\" % score_test[0])\n",
    "\n",
    "# score_val = model.evaluate(val_images, val_y, verbose=0)\n",
    "# print(\"Val Accuracy: \", score_val[1])\n",
    "# print(\"Val Cross Entropy: %.2f\" % score_val[0])"
   ]
  },
  {
   "cell_type": "code",
   "execution_count": null,
   "id": "3b5dd9fe",
   "metadata": {
    "colab": {
     "base_uri": "https://localhost:8080/",
     "height": 573
    },
    "executionInfo": {
     "elapsed": 700,
     "status": "ok",
     "timestamp": 1654252104018,
     "user": {
      "displayName": "Dima Фиш",
      "userId": "06406005900087245430"
     },
     "user_tz": 240
    },
    "id": "3b5dd9fe",
    "outputId": "202588dc-bace-49bf-fec2-3c1d962a25da"
   },
   "outputs": [
    {
     "data": {
      "image/png": "[encoded data removed]",
      "text/plain": [
       "<Figure size 432x288 with 1 Axes>"
      ]
     },
     "metadata": {
      "needs_background": "light"
     },
     "output_type": "display_data"
    },
    {
     "data": {
      "image/png": "[encoded data removed]",
      "text/plain": [
       "<Figure size 432x288 with 1 Axes>"
      ]
     },
     "metadata": {
      "needs_background": "light"
     },
     "output_type": "display_data"
    }
   ],
   "source": [
    "#  visualize_training_results(history)"
   ]
  },
  {
   "cell_type": "code",
   "execution_count": 21,
   "id": "3dee951d",
   "metadata": {
    "id": "3dee951d"
   },
   "outputs": [],
   "source": [
    "#model.save('../../models/CNN_best_model_5sec(94).h5')"
   ]
  },
  {
   "cell_type": "markdown",
   "id": "a7b541ba",
   "metadata": {},
   "source": [
    "### Evaluation of saved model"
   ]
  },
  {
   "cell_type": "code",
   "execution_count": 22,
   "id": "9v6q82EUq6K4",
   "metadata": {
    "id": "9v6q82EUq6K4"
   },
   "outputs": [],
   "source": [
    "best_model = keras.models.load_model('../../models/CNN_best_model_5sec(94).h5')"
   ]
  },
  {
   "cell_type": "code",
   "execution_count": 23,
   "id": "JKsySoWQs0Pd",
   "metadata": {
    "colab": {
     "base_uri": "https://localhost:8080/"
    },
    "executionInfo": {
     "elapsed": 3519,
     "status": "ok",
     "timestamp": 1654252127863,
     "user": {
      "displayName": "Dima Фиш",
      "userId": "06406005900087245430"
     },
     "user_tz": 240
    },
    "id": "JKsySoWQs0Pd",
    "outputId": "95a8c2f1-e17d-4695-f407-c317236babf2"
   },
   "outputs": [
    {
     "name": "stdout",
     "output_type": "stream",
     "text": [
      "Testing Accuracy:  0.9420807957649231\n",
      "Testing Cross Entropy: 0.32\n",
      "Val Accuracy:  0.9446441531181335\n",
      "Val Cross Entropy: 0.27\n"
     ]
    }
   ],
   "source": [
    "score_test = best_model.evaluate(test_images, test_y, verbose=0)\n",
    "print(\"Testing Accuracy: \", score_test[1])\n",
    "print(\"Testing Cross Entropy: %.2f\" % score_test[0])\n",
    "\n",
    "score_val = best_model.evaluate(val_images, val_y, verbose=0)\n",
    "print(\"Val Accuracy: \", score_val[1])\n",
    "print(\"Val Cross Entropy: %.2f\" % score_val[0])"
   ]
  },
  {
   "cell_type": "code",
   "execution_count": 24,
   "id": "0kC8kNZ3SHlO",
   "metadata": {
    "id": "0kC8kNZ3SHlO"
   },
   "outputs": [],
   "source": [
    "y_pred=best_model.predict(test_images)\n",
    "y_pred=np.argmax(y_pred, axis=1).reshape(-1,1)"
   ]
  },
  {
   "cell_type": "code",
   "execution_count": 25,
   "id": "gSYN0m6QuGHR",
   "metadata": {
    "colab": {
     "base_uri": "https://localhost:8080/"
    },
    "executionInfo": {
     "elapsed": 120,
     "status": "ok",
     "timestamp": 1654224441018,
     "user": {
      "displayName": "Dima Фиш",
      "userId": "06406005900087245430"
     },
     "user_tz": 240
    },
    "id": "gSYN0m6QuGHR",
    "outputId": "35898bba-0fdc-4ec4-897d-6da0ccf2b682"
   },
   "outputs": [
    {
     "name": "stdout",
     "output_type": "stream",
     "text": [
      "              precision    recall  f1-score   support\n",
      "\n",
      "           0       0.97      0.89      0.93       188\n",
      "           1       0.93      0.98      0.96       257\n",
      "           2       0.99      0.95      0.97       221\n",
      "           3       0.98      1.00      0.99       210\n",
      "           4       0.95      0.95      0.95       123\n",
      "           5       0.95      0.99      0.97       219\n",
      "           6       0.94      0.91      0.93       237\n",
      "           7       0.91      0.98      0.94       162\n",
      "           8       0.91      0.92      0.92       186\n",
      "           9       0.88      0.94      0.91       138\n",
      "          10       0.95      0.90      0.92       222\n",
      "          11       0.93      0.88      0.90       171\n",
      "          12       0.92      0.94      0.93       236\n",
      "          13       0.96      0.95      0.95       227\n",
      "\n",
      "    accuracy                           0.94      2797\n",
      "   macro avg       0.94      0.94      0.94      2797\n",
      "weighted avg       0.94      0.94      0.94      2797\n",
      "\n"
     ]
    }
   ],
   "source": [
    "\n",
    "print(classification_report(test_y, y_pred))"
   ]
  },
  {
   "cell_type": "code",
   "execution_count": 33,
   "id": "EXmfX03uAMnR",
   "metadata": {
    "colab": {
     "base_uri": "https://localhost:8080/",
     "height": 808
    },
    "executionInfo": {
     "elapsed": 1620,
     "status": "ok",
     "timestamp": 1654224475127,
     "user": {
      "displayName": "Dima Фиш",
      "userId": "06406005900087245430"
     },
     "user_tz": 240
    },
    "id": "EXmfX03uAMnR",
    "outputId": "631520a5-cb0b-4b48-de13-99c2d13eddae"
   },
   "outputs": [
    {
     "data": {
      "image/png": "[encoded data removed]",
      "text/plain": [
       "<Figure size 1008x1008 with 2 Axes>"
      ]
     },
     "metadata": {
      "needs_background": "light"
     },
     "output_type": "display_data"
    }
   ],
   "source": [
    "# Loading a LabelEncoder transformer to get labels for classes\n",
    "\n",
    "import joblib    \n",
    "with open('../../models/NN_transformers_6sec_14genres_new.joblib', 'rb') as f:\n",
    "      encoder,scaler = joblib.load(f)\n",
    "\n",
    "fig, ax = plt.subplots(figsize=(14,14))\n",
    "ConfusionMatrixDisplay.from_predictions(test_y, y_pred, ax=ax, normalize='pred', display_labels=encoder.classes_);\n",
    "plt.xticks(rotation=45);"
   ]
  },
  {
   "cell_type": "code",
   "execution_count": null,
   "id": "825449af",
   "metadata": {},
   "outputs": [],
   "source": []
  }
 ],
 "metadata": {
  "accelerator": "GPU",
  "colab": {
   "collapsed_sections": [],
   "machine_shape": "hm",
   "name": "CNN.ipynb",
   "provenance": []
  },
  "kernelspec": {
   "display_name": "Python 3 (ipykernel)",
   "language": "python",
   "name": "python3"
  },
  "language_info": {
   "codemirror_mode": {
    "name": "ipython",
    "version": 3
   },
   "file_extension": ".py",
   "mimetype": "text/x-python",
   "name": "python",
   "nbconvert_exporter": "python",
   "pygments_lexer": "ipython3",
   "version": "3.9.7"
  }
 },
 "nbformat": 4,
 "nbformat_minor": 5
}
