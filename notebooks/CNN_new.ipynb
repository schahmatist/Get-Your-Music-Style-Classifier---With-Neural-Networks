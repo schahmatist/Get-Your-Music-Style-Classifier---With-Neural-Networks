{
 "cells": [
  {
   "cell_type": "markdown",
   "id": "d33bfaea",
   "metadata": {},
   "source": [
    "### Loading Libraries"
   ]
  },
  {
   "cell_type": "code",
   "execution_count": 63,
   "id": "4f4b4ed5",
   "metadata": {},
   "outputs": [],
   "source": [
    "import pandas as pd\n",
    "import numpy as np\n",
    "\n",
    "import matplotlib.pyplot as plt\n",
    "%matplotlib inline\n",
    "import librosa\n",
    "import librosa.display\n",
    "import IPython.display\n",
    "import random\n",
    "\n",
    "import os\n",
    "from PIL import Image\n",
    "import csv\n",
    "\n",
    "# sklearn Preprocessing\n",
    "from sklearn.model_selection import train_test_split\n",
    "#Keras\n",
    "import tensorflow as tf\n",
    "import keras\n",
    "import warnings\n",
    "warnings.filterwarnings('ignore')\n",
    "from keras import layers\n",
    "from keras.layers import Activation, Dense, Dropout, Conv2D, Flatten, MaxPooling2D, GlobalMaxPooling2D, GlobalAveragePooling1D, AveragePooling2D, Input, Add\n",
    "from keras import models\n",
    "from keras.models import Sequential\n",
    "from keras import optimizers\n",
    "from keras.layers import BatchNormalization\n",
    "from keras.utils import load_img,img_to_array\n",
    "\n",
    "\n",
    "from keras.utils.np_utils import to_categorical\n",
    "from keras.preprocessing.text import Tokenizer\n",
    "from keras.preprocessing.image import ImageDataGenerator\n",
    "from keras.callbacks import EarlyStopping, ModelCheckpoint\n",
    "#os.environ['CUDA_VISIBLE_DEVICES'] = '0'\n",
    "\n",
    "from sklearn.metrics import ConfusionMatrixDisplay\n"
   ]
  },
  {
   "cell_type": "code",
   "execution_count": 64,
   "id": "ec3eb844",
   "metadata": {},
   "outputs": [],
   "source": [
    "# from tensorflow.compat.v1 import ConfigProto\n",
    "# from tensorflow.compat.v1 import InteractiveSession\n",
    "# config = ConfigProto()\n",
    "# config.gpu_options.allow_growth = True\n",
    "# session = InteractiveSession(config=config)"
   ]
  },
  {
   "cell_type": "code",
   "execution_count": 65,
   "id": "14f6d9d2",
   "metadata": {},
   "outputs": [],
   "source": [
    "def visualize_training_results(results):\n",
    "    history = results.history\n",
    "    plt.figure()\n",
    "    plt.plot(history['val_loss'])\n",
    "    plt.plot(history['loss'])\n",
    "    plt.legend(['val_loss', 'loss'])\n",
    "    plt.title('Loss')\n",
    "    plt.xlabel('Epochs')\n",
    "    plt.ylabel('Loss')\n",
    "    plt.show()\n",
    "    \n",
    "    plt.figure()\n",
    "    plt.plot(history['val_accuracy'])\n",
    "    plt.plot(history['accuracy'])\n",
    "    plt.legend(['val_acc', 'acc'])\n",
    "    plt.title('Accuracy')\n",
    "    plt.xlabel('Epochs')\n",
    "    plt.ylabel('Accuracy')\n",
    "    plt.show()"
   ]
  },
  {
   "cell_type": "markdown",
   "id": "7a28e842",
   "metadata": {},
   "source": [
    "### Loading sample image\n"
   ]
  },
  {
   "cell_type": "code",
   "execution_count": 66,
   "id": "c3a5db84",
   "metadata": {},
   "outputs": [],
   "source": [
    "# image_path='data/split_6/train/Blues/Blues028-3.png'\n",
    "# image = Image.open(image_path)"
   ]
  },
  {
   "cell_type": "code",
   "execution_count": 67,
   "id": "7172140a",
   "metadata": {},
   "outputs": [],
   "source": [
    "# print(image.format)\n",
    "# print(image.size)\n",
    "# print(image.mode)\n",
    "# np.shape(image)"
   ]
  },
  {
   "cell_type": "markdown",
   "id": "58dd6c12",
   "metadata": {},
   "source": [
    "### Loading train/val/test sets"
   ]
  },
  {
   "cell_type": "code",
   "execution_count": 89,
   "id": "487bc9d6",
   "metadata": {},
   "outputs": [
    {
     "name": "stdout",
     "output_type": "stream",
     "text": [
      "Found 18580 images belonging to 14 classes.\n",
      "Found 2319 images belonging to 14 classes.\n",
      "Found 2326 images belonging to 14 classes.\n"
     ]
    }
   ],
   "source": [
    "#image_dir='data/spectrograms_10sec'\n",
    "dest_dir='../image_data/set-8-1-1'\n",
    "\n",
    "train_dir = dest_dir+\"/train/\"\n",
    "train_datagen = ImageDataGenerator(rescale=1./255)\n",
    "train_generator = train_datagen.flow_from_directory(train_dir,target_size=(100,100),\n",
    "                                                    color_mode=\"rgba\",class_mode='categorical',batch_size=18580)\n",
    "\n",
    "\n",
    "val_dir = dest_dir+\"/val/\"\n",
    "val_datagen = ImageDataGenerator(rescale=1./255)\n",
    "val_generator = val_datagen.flow_from_directory(val_dir,target_size=(100,100),\n",
    "                                                color_mode='rgba',class_mode='categorical',batch_size= 2319)\n",
    "\n",
    "test_dir = dest_dir+\"/test/\"\n",
    "test_datagen = ImageDataGenerator(rescale=1./255)\n",
    "test_generator = test_datagen.flow_from_directory(test_dir, target_size=(100,100),\n",
    "                                                  color_mode='rgba',class_mode='categorical',batch_size= 2326)\n"
   ]
  },
  {
   "cell_type": "code",
   "execution_count": 90,
   "id": "be6f4118",
   "metadata": {
    "slideshow": {
     "slide_type": "subslide"
    }
   },
   "outputs": [],
   "source": [
    "train_images, train_labels = next(train_generator)\n",
    "test_images, test_labels = next(test_generator)\n",
    "val_images, val_labels = next(val_generator)"
   ]
  },
  {
   "cell_type": "markdown",
   "id": "43982f66",
   "metadata": {},
   "source": [
    "### Reshaping Data"
   ]
  },
  {
   "cell_type": "code",
   "execution_count": 92,
   "id": "6d0c1ec4",
   "metadata": {},
   "outputs": [],
   "source": [
    "import pickle\n",
    "image_list = [[train_images, train_labels], [test_images,test_labels], [val_images,val_labels]]\n",
    "file_name = \"images_large811_6.pkl\"\n",
    "\n",
    "\n",
    "with open(file_name, \"wb\") as f:\n",
    "    pickle.dump(image_list, f)\n",
    " \n",
    "# train_im_list=image_list[0]\n",
    "\n",
    "# with open('test_images.pkl', \"wb\") as f:\n",
    "#     pickle.dump(image_list[1], f)\n",
    "    \n",
    "# with open('val_images.pkl', \"wb\") as f:\n",
    "#     pickle.dump(image_list[2], f)\n"
   ]
  },
  {
   "cell_type": "code",
   "execution_count": 93,
   "id": "0699dd77",
   "metadata": {},
   "outputs": [
    {
     "name": "stdout",
     "output_type": "stream",
     "text": [
      "/d/Python/FLATIRON/Audio/notebooks\n"
     ]
    }
   ],
   "source": [
    "# import pickle\n",
    "# file_name = \"images_large811_6.pkl\"\n",
    "# with open(file_name, \"rb\") as f:\n",
    "#     saved_images=pickle.load(f)\n",
    "\n"
   ]
  },
  {
   "cell_type": "code",
   "execution_count": 37,
   "id": "f97e974a",
   "metadata": {},
   "outputs": [],
   "source": [
    "# train_images, train_labels = saved_images[0]\n",
    "# test_images, test_labels = saved_images[1]\n",
    "# val_images, val_labels = saved_images[2]\n",
    "\n",
    "# train_labels.shape"
   ]
  },
  {
   "cell_type": "code",
   "execution_count": 38,
   "id": "a2d7736f",
   "metadata": {},
   "outputs": [
    {
     "name": "stdout",
     "output_type": "stream",
     "text": [
      "(993, 10000)\n",
      "(342, 10000)\n",
      "(329, 10000)\n"
     ]
    }
   ],
   "source": [
    "train_img = train_images.reshape(train_images.shape[0], -1)\n",
    "test_img = test_images.reshape(test_images.shape[0], -1)\n",
    "val_img = val_images.reshape(val_images.shape[0], -1)\n",
    "\n",
    "print(train_img.shape)\n",
    "print(test_img.shape)\n",
    "print(val_img.shape)\n"
   ]
  },
  {
   "cell_type": "code",
   "execution_count": 39,
   "id": "1b067ad7",
   "metadata": {},
   "outputs": [
    {
     "data": {
      "text/plain": [
       "(993, 10000)"
      ]
     },
     "execution_count": 39,
     "metadata": {},
     "output_type": "execute_result"
    }
   ],
   "source": [
    "train_img.shape\n",
    "#train_img.shape"
   ]
  },
  {
   "cell_type": "markdown",
   "id": "60f8e8ec",
   "metadata": {},
   "source": [
    "### Reshaping y data"
   ]
  },
  {
   "cell_type": "code",
   "execution_count": 40,
   "id": "92c35765",
   "metadata": {},
   "outputs": [
    {
     "name": "stdout",
     "output_type": "stream",
     "text": [
      "(993, 1)\n",
      "(342, 1)\n",
      "(329, 1)\n"
     ]
    }
   ],
   "source": [
    "train_y=np.array([np.argmax(i) for i in train_labels]).reshape(train_generator.samples,1)\n",
    "test_y=np.array([np.argmax(i) for i in test_labels]).reshape(test_generator.samples,1)\n",
    "val_y=np.array([np.argmax(i) for i in val_labels]).reshape(val_generator.samples,1)\n",
    "\n",
    "\n",
    "print(train_y.shape)\n",
    "print(test_y.shape)\n",
    "print(val_y.shape)"
   ]
  },
  {
   "cell_type": "markdown",
   "id": "16ab5a4f",
   "metadata": {},
   "source": [
    "### Exploring data"
   ]
  },
  {
   "cell_type": "code",
   "execution_count": 41,
   "id": "b12b300b",
   "metadata": {},
   "outputs": [
    {
     "name": "stdout",
     "output_type": "stream",
     "text": [
      "Number of training samples: 993\n",
      "Number of testing samples: 342\n",
      "Number of validation samples: 329\n",
      "train_images shape: (993, 50, 50, 4)\n",
      "train_labels shape: (993, 14)\n",
      "test_images shape: (342, 50, 50, 4)\n",
      "test_labels shape: (342, 14)\n",
      "val_images shape: (329, 50, 50, 4)\n",
      "val_labels shape: (329, 14)\n"
     ]
    }
   ],
   "source": [
    "print (\"Number of training samples: \" + str(train_img.shape[0]))\n",
    "print (\"Number of testing samples: \" + str(test_img.shape[0]))\n",
    "print (\"Number of validation samples: \" + str(val_img.shape[0]))\n",
    "print (\"train_images shape: \" + str(train_images.shape))\n",
    "print (\"train_labels shape: \" + str(train_labels.shape))\n",
    "print (\"test_images shape: \" + str(test_images.shape))\n",
    "print (\"test_labels shape: \" + str(test_labels.shape))\n",
    "print (\"val_images shape: \" + str(val_images.shape))\n",
    "print (\"val_labels shape: \" + str(val_labels.shape))"
   ]
  },
  {
   "cell_type": "markdown",
   "id": "ddac5c0e",
   "metadata": {},
   "source": [
    "## Building a Network"
   ]
  },
  {
   "cell_type": "code",
   "execution_count": 42,
   "id": "6dd3de66",
   "metadata": {},
   "outputs": [],
   "source": [
    "\n",
    "# model = Sequential()\n",
    "# model.add(layers.Conv2D(64, kernel_size=(4, 4),\n",
    "#                  activation='relu',\n",
    "#                  input_shape=(train_img.shape[1],)))\n",
    "\n",
    "# model.add(layers.MaxPooling2D(pool_size=(2, 2)))\n",
    "\n",
    "# model.add(layers.Conv2D(64, (3, 5), activation='relu'\n",
    "#                 , kernel_regularizer=regularizers.l2(0.04)\n",
    "#                 ))\n",
    "# model.add(layers.MaxPooling2D(pool_size=(2, 2)))\n",
    "# model.add(layers.Dropout(0.2))\n",
    "\n",
    "# model.add(layers.Conv2D(64, (2, 2), activation='relu'))\n",
    "# model.add(layers.MaxPooling2D(pool_size=(2, 2)))\n",
    "# model.add(layers.Dropout(0.2))\n",
    "\n",
    "# model.add(layers.Flatten())\n",
    "# model.add(layers.Dense(64, activation='relu', kernel_regularizer=regularizers.l2(0.04)))\n",
    "# model.add(layers.Dropout(0.5))\n",
    "# model.add(layers.Dense(32, activation='relu', kernel_regularizer=regularizers.l2(0.04)))\n",
    "# model.add(layers.Dense(num_genres, activation='softmax'))\n",
    "# model.compile(loss=keras.losses.categorical_crossentropy,\n",
    "#               optimizer=keras.optimizers.Adam(lr=0.001, beta_1=0.9, beta_2=0.999, epsilon=1e-08, decay=0.0),\n",
    "#               metrics='accuracy')"
   ]
  },
  {
   "cell_type": "code",
   "execution_count": 43,
   "id": "1091727a",
   "metadata": {},
   "outputs": [
    {
     "data": {
      "text/plain": [
       "(993, 1)"
      ]
     },
     "execution_count": 43,
     "metadata": {},
     "output_type": "execute_result"
    }
   ],
   "source": [
    "train_images.shape[1:]\n",
    "train_y.shape"
   ]
  },
  {
   "cell_type": "code",
   "execution_count": 48,
   "id": "08a60dde",
   "metadata": {},
   "outputs": [],
   "source": [
    "model = models.Sequential()\n",
    "model.add(layers.Conv2D(32, (2, 2), activation='relu',\n",
    "                        input_shape=(train_images.shape[1:])))\n",
    "model.add(layers.MaxPooling2D((2, 2)))\n",
    "model.add(layers.Dropout(0.2))\n",
    "\n",
    "model.add(layers.Conv2D(32, (2, 2), activation='relu'))\n",
    "model.add(layers.MaxPooling2D((2, 2)))\n",
    "model.add(layers.Dropout(0.2))\n",
    "\n",
    "\n",
    "# model.add(layers.Conv2D(64, (2, 2), activation='relu'))\n",
    "# model.add(layers.MaxPooling2D((2, 2)))\n",
    "\n",
    "model.add(layers.Flatten())\n",
    "model.add(layers.Dense(32, activation='relu'))\n",
    "\n",
    "model.add(layers.Dense(14, activation='softmax'))\n",
    "\n",
    "model.compile(loss='sparse_categorical_crossentropy',\n",
    "              optimizer=\"adam\",\n",
    "              metrics=['accuracy'])\n",
    "\n",
    "\n",
    "# model = models.Sequential()\n",
    "# model.add(layers.Conv2D(16, (3, 3), activation='relu',\n",
    "#                         input_shape=(train_images.shape[1:])))\n",
    "# model.add(layers.MaxPooling2D((2, 2)))\n",
    "# model.add(layers.Dropout(0.2))\n",
    "\n",
    "\n",
    "# model.add(layers.Conv2D(16, (3, 3), activation='relu'))\n",
    "# model.add(layers.MaxPooling2D((2, 2)))\n",
    "# model.add(layers.Dropout(0.1))\n",
    "\n",
    "# model.add(layers.Conv2D(8, (3, 3), activation='relu'))\n",
    "# model.add(layers.MaxPooling2D((2, 2)))\n",
    "\n",
    "# model.add(layers.Flatten())\n",
    "# model.add(layers.Dense(8, activation='relu'))\n",
    "# model.add(layers.Dense(6, activation='softmax'))\n",
    "\n",
    "# model.compile(loss='sparse_categorical_crossentropy',\n",
    "#               optimizer=\"adam\",\n",
    "#               metrics=['accuracy'])"
   ]
  },
  {
   "cell_type": "code",
   "execution_count": 49,
   "id": "c5b46545",
   "metadata": {},
   "outputs": [],
   "source": [
    "checkpoint = [ #EarlyStopping(monitor='loss', min_delta=0.0001, patience=5, verbose=0, mode='auto'), \n",
    "                  ModelCheckpoint(filepath='models/best_model_cnn_6sec_11genres_.h5', monitor='accuracy', save_best_only=True)]\n",
    "\n"
   ]
  },
  {
   "cell_type": "code",
   "execution_count": 50,
   "id": "95ee82d8",
   "metadata": {
    "scrolled": true
   },
   "outputs": [
    {
     "ename": "NameError",
     "evalue": "name 'train_y' is not defined",
     "output_type": "error",
     "traceback": [
      "\u001b[1;31m---------------------------------------------------------------------------\u001b[0m",
      "\u001b[1;31mNameError\u001b[0m                                 Traceback (most recent call last)",
      "\u001b[1;32m~\\AppData\\Local\\Temp/ipykernel_11072/4281600662.py\u001b[0m in \u001b[0;36m<module>\u001b[1;34m\u001b[0m\n\u001b[0;32m      1\u001b[0m history = model.fit(train_images,\n\u001b[1;32m----> 2\u001b[1;33m                     \u001b[0mtrain_y\u001b[0m\u001b[1;33m,\u001b[0m\u001b[1;33m\u001b[0m\u001b[1;33m\u001b[0m\u001b[0m\n\u001b[0m\u001b[0;32m      3\u001b[0m                     \u001b[0mepochs\u001b[0m\u001b[1;33m=\u001b[0m\u001b[1;36m1000\u001b[0m\u001b[1;33m,\u001b[0m\u001b[1;33m\u001b[0m\u001b[1;33m\u001b[0m\u001b[0m\n\u001b[0;32m      4\u001b[0m                     \u001b[0mbatch_size\u001b[0m\u001b[1;33m=\u001b[0m\u001b[1;36m512\u001b[0m\u001b[1;33m,\u001b[0m \u001b[0mcallbacks\u001b[0m\u001b[1;33m=\u001b[0m\u001b[0mcheckpoint\u001b[0m\u001b[1;33m,\u001b[0m\u001b[1;33m\u001b[0m\u001b[1;33m\u001b[0m\u001b[0m\n\u001b[0;32m      5\u001b[0m                     validation_data=(val_images, val_y) )\n",
      "\u001b[1;31mNameError\u001b[0m: name 'train_y' is not defined"
     ]
    }
   ],
   "source": [
    "\n",
    "history = model.fit(train_images,\n",
    "                    train_y,\n",
    "                    epochs=1000,\n",
    "                    batch_size=512, callbacks=checkpoint,\n",
    "                    validation_data=(val_images, val_y) )\n",
    "\n",
    "\n"
   ]
  },
  {
   "cell_type": "code",
   "execution_count": 57,
   "id": "5438e8f0",
   "metadata": {},
   "outputs": [
    {
     "name": "stderr",
     "output_type": "stream",
     "text": [
      "WARNING:absl:Found untraced functions such as _jit_compiled_convolution_op, _jit_compiled_convolution_op while saving (showing 2 of 2). These functions will not be directly callable after loading.\n"
     ]
    },
    {
     "name": "stdout",
     "output_type": "stream",
     "text": [
      "INFO:tensorflow:Assets written to: models/model_6sec_14genres_split_100_62_acc_CNN\\assets\n"
     ]
    },
    {
     "name": "stderr",
     "output_type": "stream",
     "text": [
      "INFO:tensorflow:Assets written to: models/model_6sec_14genres_split_100_62_acc_CNN\\assets\n"
     ]
    }
   ],
   "source": [
    "model.save(\"models/model_6sec_14genres_split_100_62_acc_CNN\")"
   ]
  },
  {
   "cell_type": "code",
   "execution_count": 143,
   "id": "91adae0a",
   "metadata": {},
   "outputs": [
    {
     "name": "stdout",
     "output_type": "stream",
     "text": [
      "Testing Accuracy:  0.508873462677002\n",
      "Testing Cross Entropy: 1.62\n",
      "Val Accuracy:  0.5246219635009766\n",
      "Val Cross Entropy: 1.61\n"
     ]
    }
   ],
   "source": [
    "score_test = model.evaluate(test_images, test_y, verbose=0)\n",
    "print(\"Testing Accuracy: \", score_test[1])\n",
    "print(\"Testing Cross Entropy: %.2f\" % score_test[0])\n",
    "\n",
    "score_test = model.evaluate(val_images, val_y, verbose=0)\n",
    "print(\"Val Accuracy: \", score_test[1])\n",
    "print(\"Val Cross Entropy: %.2f\" % score_test[0])"
   ]
  },
  {
   "cell_type": "code",
   "execution_count": 25,
   "id": "3b5dd9fe",
   "metadata": {},
   "outputs": [
    {
     "data": {
      "image/png": "[encoded data removed]",
      "text/plain": [
       "<Figure size 432x288 with 1 Axes>"
      ]
     },
     "metadata": {
      "needs_background": "light"
     },
     "output_type": "display_data"
    },
    {
     "data": {
      "image/png": "[encoded data removed]",
      "text/plain": [
       "<Figure size 432x288 with 1 Axes>"
      ]
     },
     "metadata": {
      "needs_background": "light"
     },
     "output_type": "display_data"
    }
   ],
   "source": [
    "visualize_training_results(history)"
   ]
  },
  {
   "cell_type": "code",
   "execution_count": 81,
   "id": "74e1dcdc",
   "metadata": {},
   "outputs": [],
   "source": [
    "test_prob=model.predict_generator(test_images)"
   ]
  },
  {
   "cell_type": "code",
   "execution_count": 85,
   "id": "e192423e",
   "metadata": {},
   "outputs": [],
   "source": [
    "y_pred=np.argmax(test_prob, axis=1)"
   ]
  },
  {
   "cell_type": "code",
   "execution_count": 91,
   "id": "36d6e56d",
   "metadata": {},
   "outputs": [
    {
     "data": {
      "text/plain": [
       "{0, 1}"
      ]
     },
     "execution_count": 91,
     "metadata": {},
     "output_type": "execute_result"
    }
   ],
   "source": [
    "set(y_pred)"
   ]
  },
  {
   "cell_type": "code",
   "execution_count": 67,
   "id": "5214aaae",
   "metadata": {},
   "outputs": [
    {
     "data": {
      "text/plain": [
       "<sklearn.metrics._plot.confusion_matrix.ConfusionMatrixDisplay at 0x1fb6aa0ce88>"
      ]
     },
     "execution_count": 67,
     "metadata": {},
     "output_type": "execute_result"
    },
    {
     "data": {
      "image/png": "[encoded data removed]",
      "text/plain": [
       "<Figure size 1008x1008 with 2 Axes>"
      ]
     },
     "metadata": {
      "needs_background": "light"
     },
     "output_type": "display_data"
    }
   ],
   "source": [
    "fig, ax = plt.subplots(figsize=(14,14))\n",
    "ConfusionMatrixDisplay.from_predictions(test_y.flatten(), y_pred,  ax=ax, normalize='pred')"
   ]
  },
  {
   "cell_type": "code",
   "execution_count": null,
   "id": "6655cc48",
   "metadata": {},
   "outputs": [],
   "source": []
  }
 ],
 "metadata": {
  "kernelspec": {
   "display_name": "Python 3 (ipykernel)",
   "language": "python",
   "name": "python3"
  },
  "language_info": {
   "codemirror_mode": {
    "name": "ipython",
    "version": 3
   },
   "file_extension": ".py",
   "mimetype": "text/x-python",
   "name": "python",
   "nbconvert_exporter": "python",
   "pygments_lexer": "ipython3",
   "version": "3.9.7"
  }
 },
 "nbformat": 4,
 "nbformat_minor": 5
}
